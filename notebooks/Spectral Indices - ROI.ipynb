{
 "cells": [
  {
   "cell_type": "markdown",
   "id": "f27cca19-054e-4408-a0c9-4cbfaf0f3055",
   "metadata": {},
   "source": [
    "# Spectral Indices - ROI - Notebook"
   ]
  },
  {
   "cell_type": "code",
   "execution_count": 68,
   "id": "e0978e89-1bf9-4072-bfd3-4705c57a1f7d",
   "metadata": {},
   "outputs": [],
   "source": [
    "from pathlib import Path\n",
    "\n",
    "import numpy as np\n",
    "import pandas as pd\n",
    "import matplotlib.pyplot as plt\n",
    "import seaborn as sns\n",
    "import scipy.signal as ss\n",
    "\n",
    "# Figures and plot settings\n",
    "plt.rcParams['figure.figsize'] = [50, 30]\n",
    "# plt.rcParams['figure.dpi'] = 600\n",
    "\n",
    "%matplotlib inline"
   ]
  },
  {
   "cell_type": "markdown",
   "id": "56b9dfb9-698f-496a-a7de-840a757a57a9",
   "metadata": {},
   "source": [
    "## Path"
   ]
  },
  {
   "cell_type": "code",
   "execution_count": 69,
   "id": "36db6d81-88f7-43fc-9791-ad92ee7788fd",
   "metadata": {},
   "outputs": [],
   "source": [
    "# Load files\n",
    "files_path = Path(r\"C:\\Users\\jcmontes\\OneDrive - University of Tasmania\\01_Projects_Drive\\Imaging_spectroscopy\\Phenotyping_macroalgae\\data\\NIWA-Antarctic-CCA\\HSI-ROI-Samples\")\n",
    "files = list(files_path.glob('*.txt'))\n",
    "\n",
    "samples = []\n",
    "columns = ['Wavelength','Min','Mean-Std','Mean','Mean+Std','Max']\n",
    "\n",
    "for i, file in enumerate(files):\n",
    "    samples.append(files[i].stem[7:])"
   ]
  },
  {
   "cell_type": "markdown",
   "id": "b5584ce6-eaf7-4dea-80ab-4a8bf39d45f5",
   "metadata": {},
   "source": [
    "## Data"
   ]
  },
  {
   "cell_type": "code",
   "execution_count": 70,
   "id": "de575c51-3823-46e2-a23a-2c4b63447e7e",
   "metadata": {},
   "outputs": [],
   "source": [
    "roi_mean = []\n",
    "\n",
    "for i, file in enumerate(files):\n",
    "    df = pd.read_csv(files[i], header=7, sep=' ', names=columns, index_col=0, skipinitialspace=True)\n",
    "    roi_mean.append(df['Mean'])\n",
    "    \n",
    "samples_df = pd.concat(roi_mean, axis=1, ignore_index=True)\n",
    "samples_df.columns = samples\n",
    "\n",
    "# Discard noisy bands > 400 nm and < 800 nm\n",
    "samples_df = samples_df.loc['399':'801',:]\n",
    "\n",
    "# Acquire the x_scale for plotting right after cropping the dataframe.\n",
    "wavelengths = samples_df.index"
   ]
  },
  {
   "cell_type": "code",
   "execution_count": 71,
   "id": "4709afe7-f271-4908-bca1-7438990f7fd5",
   "metadata": {},
   "outputs": [],
   "source": [
    "# First derivative df\n",
    "derivatives = []\n",
    "\n",
    "for col in samples_df.columns[:]:\n",
    "    target = ss.savgol_filter(samples_df[col], 15, 3, deriv = 1)\n",
    "    derivatives.append(pd.Series(target))\n",
    "\n",
    "deriv_df = pd.concat(derivatives, axis=1, ignore_index=True)\n",
    "deriv_df.columns = samples\n",
    "deriv_df.set_index(wavelengths, inplace=True)"
   ]
  },
  {
   "cell_type": "code",
   "execution_count": 72,
   "id": "c97da5d0-c726-4274-9f6f-511960cd6d39",
   "metadata": {},
   "outputs": [],
   "source": [
    "# Second derivative df\n",
    "derivatives = []\n",
    "\n",
    "for col in samples_df.columns[:]:\n",
    "    target = ss.savgol_filter(samples_df[col], 15, 3, deriv = 2)\n",
    "    derivatives.append(pd.Series(target))\n",
    "\n",
    "d_deriv_df = pd.concat(derivatives, axis=1, ignore_index=True)\n",
    "d_deriv_df.columns = samples\n",
    "d_deriv_df.set_index(wavelengths, inplace=True)"
   ]
  },
  {
   "cell_type": "markdown",
   "id": "323e024b-af8f-4ada-9452-fb366b563262",
   "metadata": {},
   "source": [
    "### Dataframe with sample spectral signatures"
   ]
  },
  {
   "cell_type": "code",
   "execution_count": 73,
   "id": "d59f507e-ba71-445e-afb1-1abbdf06be2c",
   "metadata": {},
   "outputs": [
    {
     "name": "stdout",
     "output_type": "stream",
     "text": [
      "(235, 15)\n"
     ]
    },
    {
     "data": {
      "text/html": [
       "<div>\n",
       "<style scoped>\n",
       "    .dataframe tbody tr th:only-of-type {\n",
       "        vertical-align: middle;\n",
       "    }\n",
       "\n",
       "    .dataframe tbody tr th {\n",
       "        vertical-align: top;\n",
       "    }\n",
       "\n",
       "    .dataframe thead th {\n",
       "        text-align: right;\n",
       "    }\n",
       "</style>\n",
       "<table border=\"1\" class=\"dataframe\">\n",
       "  <thead>\n",
       "    <tr style=\"text-align: right;\">\n",
       "      <th></th>\n",
       "      <th>CE01</th>\n",
       "      <th>CE01B</th>\n",
       "      <th>CE02</th>\n",
       "      <th>CE03</th>\n",
       "      <th>CE03B</th>\n",
       "      <th>CE04</th>\n",
       "      <th>CE05</th>\n",
       "      <th>GN02</th>\n",
       "      <th>GN03</th>\n",
       "      <th>GN04</th>\n",
       "      <th>GN05</th>\n",
       "      <th>GN06</th>\n",
       "      <th>GN07</th>\n",
       "      <th>GN08</th>\n",
       "      <th>GS03</th>\n",
       "    </tr>\n",
       "    <tr>\n",
       "      <th>Wavelength</th>\n",
       "      <th></th>\n",
       "      <th></th>\n",
       "      <th></th>\n",
       "      <th></th>\n",
       "      <th></th>\n",
       "      <th></th>\n",
       "      <th></th>\n",
       "      <th></th>\n",
       "      <th></th>\n",
       "      <th></th>\n",
       "      <th></th>\n",
       "      <th></th>\n",
       "      <th></th>\n",
       "      <th></th>\n",
       "      <th></th>\n",
       "    </tr>\n",
       "  </thead>\n",
       "  <tbody>\n",
       "    <tr>\n",
       "      <th>399.41</th>\n",
       "      <td>0.257791</td>\n",
       "      <td>0.262919</td>\n",
       "      <td>0.275418</td>\n",
       "      <td>0.246829</td>\n",
       "      <td>0.290543</td>\n",
       "      <td>0.244949</td>\n",
       "      <td>0.241853</td>\n",
       "      <td>0.209683</td>\n",
       "      <td>0.233835</td>\n",
       "      <td>0.227815</td>\n",
       "      <td>0.226220</td>\n",
       "      <td>0.262864</td>\n",
       "      <td>0.204979</td>\n",
       "      <td>0.169763</td>\n",
       "      <td>0.248032</td>\n",
       "    </tr>\n",
       "    <tr>\n",
       "      <th>401.10</th>\n",
       "      <td>0.266321</td>\n",
       "      <td>0.242335</td>\n",
       "      <td>0.267925</td>\n",
       "      <td>0.242270</td>\n",
       "      <td>0.308579</td>\n",
       "      <td>0.249037</td>\n",
       "      <td>0.226501</td>\n",
       "      <td>0.205593</td>\n",
       "      <td>0.238903</td>\n",
       "      <td>0.215439</td>\n",
       "      <td>0.221854</td>\n",
       "      <td>0.253998</td>\n",
       "      <td>0.211364</td>\n",
       "      <td>0.165561</td>\n",
       "      <td>0.253757</td>\n",
       "    </tr>\n",
       "    <tr>\n",
       "      <th>402.78</th>\n",
       "      <td>0.229291</td>\n",
       "      <td>0.246826</td>\n",
       "      <td>0.252130</td>\n",
       "      <td>0.235178</td>\n",
       "      <td>0.297254</td>\n",
       "      <td>0.231389</td>\n",
       "      <td>0.220034</td>\n",
       "      <td>0.213058</td>\n",
       "      <td>0.231047</td>\n",
       "      <td>0.212923</td>\n",
       "      <td>0.216242</td>\n",
       "      <td>0.255805</td>\n",
       "      <td>0.206011</td>\n",
       "      <td>0.152007</td>\n",
       "      <td>0.242945</td>\n",
       "    </tr>\n",
       "    <tr>\n",
       "      <th>404.47</th>\n",
       "      <td>0.246387</td>\n",
       "      <td>0.231008</td>\n",
       "      <td>0.262166</td>\n",
       "      <td>0.231847</td>\n",
       "      <td>0.291203</td>\n",
       "      <td>0.258075</td>\n",
       "      <td>0.235802</td>\n",
       "      <td>0.207218</td>\n",
       "      <td>0.217422</td>\n",
       "      <td>0.208261</td>\n",
       "      <td>0.215208</td>\n",
       "      <td>0.253825</td>\n",
       "      <td>0.199368</td>\n",
       "      <td>0.158966</td>\n",
       "      <td>0.239398</td>\n",
       "    </tr>\n",
       "    <tr>\n",
       "      <th>406.15</th>\n",
       "      <td>0.222887</td>\n",
       "      <td>0.237983</td>\n",
       "      <td>0.258397</td>\n",
       "      <td>0.236734</td>\n",
       "      <td>0.303780</td>\n",
       "      <td>0.233645</td>\n",
       "      <td>0.220678</td>\n",
       "      <td>0.205288</td>\n",
       "      <td>0.227644</td>\n",
       "      <td>0.211124</td>\n",
       "      <td>0.212727</td>\n",
       "      <td>0.246412</td>\n",
       "      <td>0.200470</td>\n",
       "      <td>0.160701</td>\n",
       "      <td>0.244394</td>\n",
       "    </tr>\n",
       "  </tbody>\n",
       "</table>\n",
       "</div>"
      ],
      "text/plain": [
       "                CE01     CE01B      CE02      CE03     CE03B      CE04  \\\n",
       "Wavelength                                                               \n",
       "399.41      0.257791  0.262919  0.275418  0.246829  0.290543  0.244949   \n",
       "401.10      0.266321  0.242335  0.267925  0.242270  0.308579  0.249037   \n",
       "402.78      0.229291  0.246826  0.252130  0.235178  0.297254  0.231389   \n",
       "404.47      0.246387  0.231008  0.262166  0.231847  0.291203  0.258075   \n",
       "406.15      0.222887  0.237983  0.258397  0.236734  0.303780  0.233645   \n",
       "\n",
       "                CE05      GN02      GN03      GN04      GN05      GN06  \\\n",
       "Wavelength                                                               \n",
       "399.41      0.241853  0.209683  0.233835  0.227815  0.226220  0.262864   \n",
       "401.10      0.226501  0.205593  0.238903  0.215439  0.221854  0.253998   \n",
       "402.78      0.220034  0.213058  0.231047  0.212923  0.216242  0.255805   \n",
       "404.47      0.235802  0.207218  0.217422  0.208261  0.215208  0.253825   \n",
       "406.15      0.220678  0.205288  0.227644  0.211124  0.212727  0.246412   \n",
       "\n",
       "                GN07      GN08      GS03  \n",
       "Wavelength                                \n",
       "399.41      0.204979  0.169763  0.248032  \n",
       "401.10      0.211364  0.165561  0.253757  \n",
       "402.78      0.206011  0.152007  0.242945  \n",
       "404.47      0.199368  0.158966  0.239398  \n",
       "406.15      0.200470  0.160701  0.244394  "
      ]
     },
     "execution_count": 73,
     "metadata": {},
     "output_type": "execute_result"
    }
   ],
   "source": [
    "# Reflectance\n",
    "print(samples_df.shape)\n",
    "samples_df.head()"
   ]
  },
  {
   "cell_type": "code",
   "execution_count": 74,
   "id": "f964b955-4722-4d85-a5da-0963665c1426",
   "metadata": {},
   "outputs": [
    {
     "name": "stdout",
     "output_type": "stream",
     "text": [
      "(235, 15)\n"
     ]
    },
    {
     "data": {
      "text/html": [
       "<div>\n",
       "<style scoped>\n",
       "    .dataframe tbody tr th:only-of-type {\n",
       "        vertical-align: middle;\n",
       "    }\n",
       "\n",
       "    .dataframe tbody tr th {\n",
       "        vertical-align: top;\n",
       "    }\n",
       "\n",
       "    .dataframe thead th {\n",
       "        text-align: right;\n",
       "    }\n",
       "</style>\n",
       "<table border=\"1\" class=\"dataframe\">\n",
       "  <thead>\n",
       "    <tr style=\"text-align: right;\">\n",
       "      <th></th>\n",
       "      <th>CE01</th>\n",
       "      <th>CE01B</th>\n",
       "      <th>CE02</th>\n",
       "      <th>CE03</th>\n",
       "      <th>CE03B</th>\n",
       "      <th>CE04</th>\n",
       "      <th>CE05</th>\n",
       "      <th>GN02</th>\n",
       "      <th>GN03</th>\n",
       "      <th>GN04</th>\n",
       "      <th>GN05</th>\n",
       "      <th>GN06</th>\n",
       "      <th>GN07</th>\n",
       "      <th>GN08</th>\n",
       "      <th>GS03</th>\n",
       "    </tr>\n",
       "    <tr>\n",
       "      <th>Wavelength</th>\n",
       "      <th></th>\n",
       "      <th></th>\n",
       "      <th></th>\n",
       "      <th></th>\n",
       "      <th></th>\n",
       "      <th></th>\n",
       "      <th></th>\n",
       "      <th></th>\n",
       "      <th></th>\n",
       "      <th></th>\n",
       "      <th></th>\n",
       "      <th></th>\n",
       "      <th></th>\n",
       "      <th></th>\n",
       "      <th></th>\n",
       "    </tr>\n",
       "  </thead>\n",
       "  <tbody>\n",
       "    <tr>\n",
       "      <th>399.41</th>\n",
       "      <td>-0.010499</td>\n",
       "      <td>-0.007185</td>\n",
       "      <td>-0.005283</td>\n",
       "      <td>-0.004097</td>\n",
       "      <td>0.000715</td>\n",
       "      <td>-0.004585</td>\n",
       "      <td>0.004021</td>\n",
       "      <td>-0.000890</td>\n",
       "      <td>-0.003490</td>\n",
       "      <td>-0.005458</td>\n",
       "      <td>-0.003733</td>\n",
       "      <td>-0.002670</td>\n",
       "      <td>-0.003407</td>\n",
       "      <td>-0.004785</td>\n",
       "      <td>-0.002191</td>\n",
       "    </tr>\n",
       "    <tr>\n",
       "      <th>401.10</th>\n",
       "      <td>-0.007559</td>\n",
       "      <td>-0.005636</td>\n",
       "      <td>-0.004188</td>\n",
       "      <td>-0.003279</td>\n",
       "      <td>0.000369</td>\n",
       "      <td>-0.004294</td>\n",
       "      <td>0.002728</td>\n",
       "      <td>-0.000850</td>\n",
       "      <td>-0.003654</td>\n",
       "      <td>-0.004588</td>\n",
       "      <td>-0.003068</td>\n",
       "      <td>-0.002332</td>\n",
       "      <td>-0.003142</td>\n",
       "      <td>-0.003904</td>\n",
       "      <td>-0.002028</td>\n",
       "    </tr>\n",
       "    <tr>\n",
       "      <th>402.78</th>\n",
       "      <td>-0.004993</td>\n",
       "      <td>-0.004259</td>\n",
       "      <td>-0.003246</td>\n",
       "      <td>-0.002535</td>\n",
       "      <td>0.000100</td>\n",
       "      <td>-0.003978</td>\n",
       "      <td>0.001556</td>\n",
       "      <td>-0.000817</td>\n",
       "      <td>-0.003735</td>\n",
       "      <td>-0.003803</td>\n",
       "      <td>-0.002462</td>\n",
       "      <td>-0.002028</td>\n",
       "      <td>-0.002870</td>\n",
       "      <td>-0.003119</td>\n",
       "      <td>-0.001865</td>\n",
       "    </tr>\n",
       "    <tr>\n",
       "      <th>404.47</th>\n",
       "      <td>-0.002801</td>\n",
       "      <td>-0.003054</td>\n",
       "      <td>-0.002456</td>\n",
       "      <td>-0.001864</td>\n",
       "      <td>-0.000092</td>\n",
       "      <td>-0.003638</td>\n",
       "      <td>0.000506</td>\n",
       "      <td>-0.000791</td>\n",
       "      <td>-0.003733</td>\n",
       "      <td>-0.003102</td>\n",
       "      <td>-0.001913</td>\n",
       "      <td>-0.001757</td>\n",
       "      <td>-0.002590</td>\n",
       "      <td>-0.002432</td>\n",
       "      <td>-0.001703</td>\n",
       "    </tr>\n",
       "    <tr>\n",
       "      <th>406.15</th>\n",
       "      <td>-0.000981</td>\n",
       "      <td>-0.002020</td>\n",
       "      <td>-0.001818</td>\n",
       "      <td>-0.001267</td>\n",
       "      <td>-0.000207</td>\n",
       "      <td>-0.003272</td>\n",
       "      <td>-0.000424</td>\n",
       "      <td>-0.000771</td>\n",
       "      <td>-0.003648</td>\n",
       "      <td>-0.002486</td>\n",
       "      <td>-0.001422</td>\n",
       "      <td>-0.001519</td>\n",
       "      <td>-0.002301</td>\n",
       "      <td>-0.001842</td>\n",
       "      <td>-0.001542</td>\n",
       "    </tr>\n",
       "  </tbody>\n",
       "</table>\n",
       "</div>"
      ],
      "text/plain": [
       "                CE01     CE01B      CE02      CE03     CE03B      CE04  \\\n",
       "Wavelength                                                               \n",
       "399.41     -0.010499 -0.007185 -0.005283 -0.004097  0.000715 -0.004585   \n",
       "401.10     -0.007559 -0.005636 -0.004188 -0.003279  0.000369 -0.004294   \n",
       "402.78     -0.004993 -0.004259 -0.003246 -0.002535  0.000100 -0.003978   \n",
       "404.47     -0.002801 -0.003054 -0.002456 -0.001864 -0.000092 -0.003638   \n",
       "406.15     -0.000981 -0.002020 -0.001818 -0.001267 -0.000207 -0.003272   \n",
       "\n",
       "                CE05      GN02      GN03      GN04      GN05      GN06  \\\n",
       "Wavelength                                                               \n",
       "399.41      0.004021 -0.000890 -0.003490 -0.005458 -0.003733 -0.002670   \n",
       "401.10      0.002728 -0.000850 -0.003654 -0.004588 -0.003068 -0.002332   \n",
       "402.78      0.001556 -0.000817 -0.003735 -0.003803 -0.002462 -0.002028   \n",
       "404.47      0.000506 -0.000791 -0.003733 -0.003102 -0.001913 -0.001757   \n",
       "406.15     -0.000424 -0.000771 -0.003648 -0.002486 -0.001422 -0.001519   \n",
       "\n",
       "                GN07      GN08      GS03  \n",
       "Wavelength                                \n",
       "399.41     -0.003407 -0.004785 -0.002191  \n",
       "401.10     -0.003142 -0.003904 -0.002028  \n",
       "402.78     -0.002870 -0.003119 -0.001865  \n",
       "404.47     -0.002590 -0.002432 -0.001703  \n",
       "406.15     -0.002301 -0.001842 -0.001542  "
      ]
     },
     "execution_count": 74,
     "metadata": {},
     "output_type": "execute_result"
    }
   ],
   "source": [
    "# First derivative [d]\n",
    "print(deriv_df.shape)\n",
    "deriv_df.head()"
   ]
  },
  {
   "cell_type": "code",
   "execution_count": 75,
   "id": "3e121bc7-042e-451d-bdbb-16fb8aa15c19",
   "metadata": {},
   "outputs": [
    {
     "data": {
      "text/html": [
       "<div>\n",
       "<style scoped>\n",
       "    .dataframe tbody tr th:only-of-type {\n",
       "        vertical-align: middle;\n",
       "    }\n",
       "\n",
       "    .dataframe tbody tr th {\n",
       "        vertical-align: top;\n",
       "    }\n",
       "\n",
       "    .dataframe thead th {\n",
       "        text-align: right;\n",
       "    }\n",
       "</style>\n",
       "<table border=\"1\" class=\"dataframe\">\n",
       "  <thead>\n",
       "    <tr style=\"text-align: right;\">\n",
       "      <th></th>\n",
       "      <th>CE01</th>\n",
       "      <th>CE01B</th>\n",
       "      <th>CE02</th>\n",
       "      <th>CE03</th>\n",
       "      <th>CE03B</th>\n",
       "      <th>CE04</th>\n",
       "      <th>CE05</th>\n",
       "      <th>GN02</th>\n",
       "      <th>GN03</th>\n",
       "      <th>GN04</th>\n",
       "      <th>GN05</th>\n",
       "      <th>GN06</th>\n",
       "      <th>GN07</th>\n",
       "      <th>GN08</th>\n",
       "      <th>GS03</th>\n",
       "    </tr>\n",
       "    <tr>\n",
       "      <th>Wavelength</th>\n",
       "      <th></th>\n",
       "      <th></th>\n",
       "      <th></th>\n",
       "      <th></th>\n",
       "      <th></th>\n",
       "      <th></th>\n",
       "      <th></th>\n",
       "      <th></th>\n",
       "      <th></th>\n",
       "      <th></th>\n",
       "      <th></th>\n",
       "      <th></th>\n",
       "      <th></th>\n",
       "      <th></th>\n",
       "      <th></th>\n",
       "    </tr>\n",
       "  </thead>\n",
       "  <tbody>\n",
       "    <tr>\n",
       "      <th>399.41</th>\n",
       "      <td>0.003126</td>\n",
       "      <td>0.001635</td>\n",
       "      <td>0.001170</td>\n",
       "      <td>0.000854</td>\n",
       "      <td>-0.000384</td>\n",
       "      <td>0.000279</td>\n",
       "      <td>-0.001353</td>\n",
       "      <td>0.000043</td>\n",
       "      <td>-0.000205</td>\n",
       "      <td>0.000912</td>\n",
       "      <td>0.000693</td>\n",
       "      <td>0.000355</td>\n",
       "      <td>0.000261</td>\n",
       "      <td>0.000930</td>\n",
       "      <td>0.000164</td>\n",
       "    </tr>\n",
       "    <tr>\n",
       "      <th>401.10</th>\n",
       "      <td>0.002753</td>\n",
       "      <td>0.001463</td>\n",
       "      <td>0.001018</td>\n",
       "      <td>0.000781</td>\n",
       "      <td>-0.000308</td>\n",
       "      <td>0.000304</td>\n",
       "      <td>-0.001232</td>\n",
       "      <td>0.000036</td>\n",
       "      <td>-0.000122</td>\n",
       "      <td>0.000828</td>\n",
       "      <td>0.000635</td>\n",
       "      <td>0.000321</td>\n",
       "      <td>0.000268</td>\n",
       "      <td>0.000833</td>\n",
       "      <td>0.000163</td>\n",
       "    </tr>\n",
       "    <tr>\n",
       "      <th>402.78</th>\n",
       "      <td>0.002379</td>\n",
       "      <td>0.001291</td>\n",
       "      <td>0.000866</td>\n",
       "      <td>0.000707</td>\n",
       "      <td>-0.000231</td>\n",
       "      <td>0.000328</td>\n",
       "      <td>-0.001111</td>\n",
       "      <td>0.000030</td>\n",
       "      <td>-0.000040</td>\n",
       "      <td>0.000743</td>\n",
       "      <td>0.000578</td>\n",
       "      <td>0.000288</td>\n",
       "      <td>0.000276</td>\n",
       "      <td>0.000736</td>\n",
       "      <td>0.000162</td>\n",
       "    </tr>\n",
       "    <tr>\n",
       "      <th>404.47</th>\n",
       "      <td>0.002006</td>\n",
       "      <td>0.001120</td>\n",
       "      <td>0.000714</td>\n",
       "      <td>0.000634</td>\n",
       "      <td>-0.000154</td>\n",
       "      <td>0.000353</td>\n",
       "      <td>-0.000990</td>\n",
       "      <td>0.000023</td>\n",
       "      <td>0.000043</td>\n",
       "      <td>0.000658</td>\n",
       "      <td>0.000520</td>\n",
       "      <td>0.000254</td>\n",
       "      <td>0.000284</td>\n",
       "      <td>0.000639</td>\n",
       "      <td>0.000162</td>\n",
       "    </tr>\n",
       "    <tr>\n",
       "      <th>406.15</th>\n",
       "      <td>0.001633</td>\n",
       "      <td>0.000948</td>\n",
       "      <td>0.000562</td>\n",
       "      <td>0.000560</td>\n",
       "      <td>-0.000077</td>\n",
       "      <td>0.000378</td>\n",
       "      <td>-0.000869</td>\n",
       "      <td>0.000016</td>\n",
       "      <td>0.000126</td>\n",
       "      <td>0.000574</td>\n",
       "      <td>0.000462</td>\n",
       "      <td>0.000221</td>\n",
       "      <td>0.000292</td>\n",
       "      <td>0.000542</td>\n",
       "      <td>0.000161</td>\n",
       "    </tr>\n",
       "  </tbody>\n",
       "</table>\n",
       "</div>"
      ],
      "text/plain": [
       "                CE01     CE01B      CE02      CE03     CE03B      CE04  \\\n",
       "Wavelength                                                               \n",
       "399.41      0.003126  0.001635  0.001170  0.000854 -0.000384  0.000279   \n",
       "401.10      0.002753  0.001463  0.001018  0.000781 -0.000308  0.000304   \n",
       "402.78      0.002379  0.001291  0.000866  0.000707 -0.000231  0.000328   \n",
       "404.47      0.002006  0.001120  0.000714  0.000634 -0.000154  0.000353   \n",
       "406.15      0.001633  0.000948  0.000562  0.000560 -0.000077  0.000378   \n",
       "\n",
       "                CE05      GN02      GN03      GN04      GN05      GN06  \\\n",
       "Wavelength                                                               \n",
       "399.41     -0.001353  0.000043 -0.000205  0.000912  0.000693  0.000355   \n",
       "401.10     -0.001232  0.000036 -0.000122  0.000828  0.000635  0.000321   \n",
       "402.78     -0.001111  0.000030 -0.000040  0.000743  0.000578  0.000288   \n",
       "404.47     -0.000990  0.000023  0.000043  0.000658  0.000520  0.000254   \n",
       "406.15     -0.000869  0.000016  0.000126  0.000574  0.000462  0.000221   \n",
       "\n",
       "                GN07      GN08      GS03  \n",
       "Wavelength                                \n",
       "399.41      0.000261  0.000930  0.000164  \n",
       "401.10      0.000268  0.000833  0.000163  \n",
       "402.78      0.000276  0.000736  0.000162  \n",
       "404.47      0.000284  0.000639  0.000162  \n",
       "406.15      0.000292  0.000542  0.000161  "
      ]
     },
     "execution_count": 75,
     "metadata": {},
     "output_type": "execute_result"
    }
   ],
   "source": [
    "# Second derivative [dd]\n",
    "d_deriv_df.head()"
   ]
  },
  {
   "cell_type": "markdown",
   "id": "52865ea4-4536-4dff-b423-eed349420e60",
   "metadata": {},
   "source": [
    "# Spectral Indices (SI) - ROI\n",
    "---\n",
    "- Prepare empty dataframe where we will store our SI results\n",
    "- Indices taken from Literature\n",
    "- NDVI: Modified to match Chl a [A] peak *\n",
    "- Chlorophyll indices: Modified to match Chl a [A] peak *"
   ]
  },
  {
   "cell_type": "code",
   "execution_count": 76,
   "id": "7631edbf-7f2c-4491-b86c-98e6a35c9ef6",
   "metadata": {},
   "outputs": [],
   "source": [
    "sp_indices = pd.DataFrame()"
   ]
  },
  {
   "cell_type": "markdown",
   "id": "32559709-6e83-4343-8535-c8c87b98f2d9",
   "metadata": {
    "tags": []
   },
   "source": [
    "### Normalized Differenced Vegetation Index\n",
    "- NDVI = (R800 - R670) / (R800 + R670)\n",
    "- NDVI = (R800 - R665) / (R800 + R665)*"
   ]
  },
  {
   "cell_type": "code",
   "execution_count": 77,
   "id": "51f928fc-24bf-4fae-a080-b1d633ec5473",
   "metadata": {},
   "outputs": [],
   "source": [
    "wvl1 = samples_df.loc['665':'666',:].squeeze() # Chlorophyll [A] peak\n",
    "wvl2 = samples_df.loc['799':'801',:].squeeze() # Red edge"
   ]
  },
  {
   "cell_type": "code",
   "execution_count": 78,
   "id": "5dda023c-4f59-4aea-adc3-591a61f57cd7",
   "metadata": {},
   "outputs": [],
   "source": [
    "ndvi = (wvl2 - wvl1) / (wvl2 + wvl1)"
   ]
  },
  {
   "cell_type": "code",
   "execution_count": 79,
   "id": "3c6d9969-35c6-46ba-90ec-110952d8df46",
   "metadata": {
    "tags": []
   },
   "outputs": [],
   "source": [
    "sp_indices['NDVI'] = ndvi"
   ]
  },
  {
   "cell_type": "markdown",
   "id": "b0bdb248-fa06-4a45-8ed5-81805513c84b",
   "metadata": {
    "tags": []
   },
   "source": [
    "### Plant Senescence Reflectance Index\n",
    "- PSRI = (R678 - R500) / R750"
   ]
  },
  {
   "cell_type": "code",
   "execution_count": 80,
   "id": "1571f07b-7c5b-4c8a-8242-5c5f728f705b",
   "metadata": {},
   "outputs": [],
   "source": [
    "wvl1 = samples_df.loc['678':'680',:].squeeze()\n",
    "wvl2 = samples_df.loc['499':'501',:].squeeze()\n",
    "wvl3 = samples_df.loc['750':'751',:].squeeze()"
   ]
  },
  {
   "cell_type": "code",
   "execution_count": 81,
   "id": "560551ce-589b-4832-8f40-628911d73f72",
   "metadata": {},
   "outputs": [],
   "source": [
    "psri = (wvl1 - wvl2) / wvl3"
   ]
  },
  {
   "cell_type": "code",
   "execution_count": 82,
   "id": "044092e7-b54f-4f26-b402-5cb4d2f74518",
   "metadata": {},
   "outputs": [],
   "source": [
    "sp_indices['PSRI'] = psri.T"
   ]
  },
  {
   "cell_type": "markdown",
   "id": "ff7f9c29-f101-4cf7-ad37-9cc09d43afa1",
   "metadata": {
    "tags": []
   },
   "source": [
    "### Photochemical Reflectance Index\n",
    "- PRI = (R531 - R570) / (R531 + R570)"
   ]
  },
  {
   "cell_type": "code",
   "execution_count": 83,
   "id": "79c76f50-6017-4683-b3c0-13eb1e663f84",
   "metadata": {},
   "outputs": [],
   "source": [
    "wvl1 = samples_df.loc['531':'532',:].squeeze() #531 nm\n",
    "wvl2 = samples_df.loc['569':'571',:].squeeze() #570 nm"
   ]
  },
  {
   "cell_type": "code",
   "execution_count": 84,
   "id": "db160e5b-7f87-42fa-82c9-b8f877c0b2f2",
   "metadata": {},
   "outputs": [],
   "source": [
    "pri = (wvl1 - wvl2) / (wvl1 + wvl2)"
   ]
  },
  {
   "cell_type": "code",
   "execution_count": 85,
   "id": "b2689095-b9d9-4c71-bee9-2ba841d1b958",
   "metadata": {},
   "outputs": [],
   "source": [
    "sp_indices['PRI'] = pri.T"
   ]
  },
  {
   "cell_type": "markdown",
   "id": "19a2119a-352b-4fbd-81a0-13cb53e1e13d",
   "metadata": {
    "tags": []
   },
   "source": [
    "### Enhanced Vegetation Index\n",
    "EVI = (2.5 * (R800 - R670)) / (1 + R800 + (6 * R670) - (7.5 * R480))"
   ]
  },
  {
   "cell_type": "code",
   "execution_count": 86,
   "id": "0f9efb87-b3c5-4564-b835-0abc66363c21",
   "metadata": {},
   "outputs": [],
   "source": [
    "wvl1 = samples_df.loc['479':'481',:].squeeze() #480 nm\n",
    "wvl2 = samples_df.loc['670':'671',:].squeeze() #670 nm\n",
    "wvl3 = samples_df.loc['799':'801',:].squeeze() #800 nm\n",
    "#print(wvl1, wvl2, wvl3)"
   ]
  },
  {
   "cell_type": "code",
   "execution_count": 87,
   "id": "cbe95bc0-6ab4-4a28-991a-12ece6bd1067",
   "metadata": {},
   "outputs": [],
   "source": [
    "evi = (2.5 * (wvl3 - wvl2)) / (1 + wvl3 + (6 * wvl2) - (7.5 * wvl1))"
   ]
  },
  {
   "cell_type": "code",
   "execution_count": 88,
   "id": "85dc3b38-8724-48ef-b6cb-a45a88015151",
   "metadata": {},
   "outputs": [],
   "source": [
    "sp_indices['EVI'] = evi.T"
   ]
  },
  {
   "cell_type": "markdown",
   "id": "51568976-f1ec-47a7-9fb4-27a05fee6ce3",
   "metadata": {
    "tags": []
   },
   "source": [
    "## Chlorophyll indices\n",
    "---"
   ]
  },
  {
   "cell_type": "markdown",
   "id": "2b028b7d-84b2-4618-b15e-86c9f0570ebd",
   "metadata": {
    "tags": []
   },
   "source": [
    "### Modified Chlorophyll Absorption Reflectance Index\n",
    "- MCARI = ((R700 - R670) - 0.2 * (R700 - R550)) * (R700 / R670)\n",
    "- MCARI = ((R700 - R665) - 0.2 * (R700 - R550)) * (R700 / R665) *\n",
    "\n",
    "Modified peaks of Chl absorbance *"
   ]
  },
  {
   "cell_type": "code",
   "execution_count": 89,
   "id": "2afb6feb-29b8-4067-8488-5c57b61993fc",
   "metadata": {
    "tags": []
   },
   "outputs": [],
   "source": [
    "wvl1 = samples_df.loc['700':'701',:].squeeze()\n",
    "#wvl2 = samples_df.loc['670':'671',:].squeeze() # Using original formula\n",
    "wvl2 = samples_df.loc['665':'666',:].squeeze() # Using our A peak\n",
    "wvl3 = samples_df.loc['550':'551',:].squeeze()"
   ]
  },
  {
   "cell_type": "code",
   "execution_count": 90,
   "id": "622d4e02-4f12-4f99-adfa-a217eed8a543",
   "metadata": {},
   "outputs": [],
   "source": [
    "mcari = ((wvl1 - wvl2) - 0.2 * (wvl1 - wvl3)) * (wvl1 / wvl2)"
   ]
  },
  {
   "cell_type": "code",
   "execution_count": 91,
   "id": "85e8dc61-4e18-459a-bbb4-8dcf79d8e0c4",
   "metadata": {},
   "outputs": [],
   "source": [
    "sp_indices['MCARI'] = mcari.T"
   ]
  },
  {
   "cell_type": "markdown",
   "id": "5c3a226b-fc01-4881-99f2-00944a93b6d0",
   "metadata": {
    "tags": []
   },
   "source": [
    "### Pigment Specific Normalized Difference for Chlorophyll a\n",
    "- PSND_CHLA = (R800 - R680) / (R800 + R680)\n",
    "- PSND_CHLA = (R800 - R665) / (R800 + R665) *"
   ]
  },
  {
   "cell_type": "code",
   "execution_count": 92,
   "id": "34d607a0-5a69-4f3c-b392-28d0e4cff8a0",
   "metadata": {
    "tags": []
   },
   "outputs": [],
   "source": [
    "wvl1 = samples_df.loc['800':'801',:].squeeze()\n",
    "#wvl2 = samples_df.loc['679':'680',:].squeeze() # Use of formula PlantCV\n",
    "wvl2 = samples_df.loc['665':'666',:].squeeze()"
   ]
  },
  {
   "cell_type": "code",
   "execution_count": 93,
   "id": "c68040ec-c96e-49b0-88e2-340cfb7a07a7",
   "metadata": {},
   "outputs": [],
   "source": [
    "psnd_chla = (wvl1 - wvl2) / (wvl1 + wvl2)"
   ]
  },
  {
   "cell_type": "code",
   "execution_count": 94,
   "id": "bdaf753f-cb8f-4731-9339-8c30d0304e91",
   "metadata": {},
   "outputs": [],
   "source": [
    "sp_indices['ND_CHLA'] = psnd_chla.T"
   ]
  },
  {
   "cell_type": "markdown",
   "id": "a192774b-6f32-45aa-92aa-24a1d1c81121",
   "metadata": {
    "tags": []
   },
   "source": [
    "### Pigment Specific Normalized Difference for Chlorophyll b\n",
    "- PSND_CHLB = (R800 - R635) / (R800 + R635)\n",
    "\n",
    "Could modify to [A] peak of Chl extract at 624 nm"
   ]
  },
  {
   "cell_type": "code",
   "execution_count": 95,
   "id": "f4b5bf37-5793-4b01-859c-7c13ffdf1075",
   "metadata": {},
   "outputs": [],
   "source": [
    "wvl1 = samples_df.loc['800':'801',:].squeeze()\n",
    "#wvl2 = samples_df.loc['634':'635',:].squeeze()\n",
    "wvl2 = samples_df.loc['624':'625',:].squeeze()"
   ]
  },
  {
   "cell_type": "code",
   "execution_count": 96,
   "id": "54dcb298-475e-4122-997b-03671cb243fc",
   "metadata": {},
   "outputs": [],
   "source": [
    "psnd_chlb = (wvl1 - wvl2) / (wvl1 + wvl2)"
   ]
  },
  {
   "cell_type": "code",
   "execution_count": 97,
   "id": "e773e1be-ddec-4216-96ea-4bd76948d320",
   "metadata": {},
   "outputs": [],
   "source": [
    "sp_indices['ND_CHLB'] = psnd_chlb.T"
   ]
  },
  {
   "cell_type": "markdown",
   "id": "5715877f-e191-439a-a350-9981962eb16e",
   "metadata": {
    "tags": []
   },
   "source": [
    "### Pigment Specific Simple Ratio for Chlorophyll a\n",
    "- PSSR_CHLA = R800 / R680\n",
    "- PSSR_CHLA = R800 / R665 *"
   ]
  },
  {
   "cell_type": "code",
   "execution_count": 98,
   "id": "ca69d43d-470f-4d43-9e8a-1f5b1f8fe890",
   "metadata": {},
   "outputs": [],
   "source": [
    "wvl1 = samples_df.loc['800':'801',:].squeeze()\n",
    "#wvl2 = samples_df.loc['679':'680',:].squeeze()\n",
    "wvl2 = samples_df.loc['665':'666',:].squeeze()"
   ]
  },
  {
   "cell_type": "code",
   "execution_count": 99,
   "id": "29f5e352-2d14-46e1-84f2-21db61ea1be3",
   "metadata": {},
   "outputs": [],
   "source": [
    "pssr_chla = wvl1 / wvl2"
   ]
  },
  {
   "cell_type": "code",
   "execution_count": 100,
   "id": "97723ffe-48cb-4f70-965c-c23384661160",
   "metadata": {},
   "outputs": [],
   "source": [
    "sp_indices['SR_CHLA'] = pssr_chla.T"
   ]
  },
  {
   "cell_type": "markdown",
   "id": "d1408259-48a2-4406-b9c2-1abe4fbd6251",
   "metadata": {
    "tags": []
   },
   "source": [
    "### Pigment Specific Simple Ratio for Chlorophyll b\n",
    "- PSSR_CHLB = R800 / R635\n",
    "\n",
    "Could modify to [A] peak of Chl extract at 624 nm"
   ]
  },
  {
   "cell_type": "code",
   "execution_count": 101,
   "id": "ac60d053-997a-4b87-9caf-3109b9306c7e",
   "metadata": {},
   "outputs": [],
   "source": [
    "wvl1 = samples_df.loc['800':'801',:].squeeze()\n",
    "#wvl2 = samples_df.loc['634':'635',:].squeeze()\n",
    "wvl2 = samples_df.loc['624':'625',:].squeeze()"
   ]
  },
  {
   "cell_type": "code",
   "execution_count": 102,
   "id": "ff87d480-6514-45ae-b1fb-cd83f823e9cb",
   "metadata": {},
   "outputs": [],
   "source": [
    "pssr_chlb = wvl1 / wvl2"
   ]
  },
  {
   "cell_type": "code",
   "execution_count": 103,
   "id": "4a79e2f0-a956-41a7-bb7d-5d8e5cf76d32",
   "metadata": {},
   "outputs": [],
   "source": [
    "sp_indices['SR_CHLB'] = pssr_chlb.T"
   ]
  },
  {
   "cell_type": "markdown",
   "id": "845d97f9-4d25-4592-923e-ff4e783b292e",
   "metadata": {
    "tags": []
   },
   "source": [
    "# Phycobilin indices\n",
    "---\n",
    "- We based the following SI based on the [A] peaks of phycobilin extractions\n",
    "- Phycocyanin index based on Beer & Eshel equation\n",
    "- Phycobilin [A] peaks: 494 nm and 563 nm"
   ]
  },
  {
   "cell_type": "markdown",
   "id": "d37698ff-95cd-4769-b84e-ffd140bf315e",
   "metadata": {
    "tags": []
   },
   "source": [
    "### Pigment Specific Normalized Difference for Phycobilin 494 nm\n",
    "- PSND_494 = (R800 - R494) / (R800 + R494)"
   ]
  },
  {
   "cell_type": "code",
   "execution_count": 104,
   "id": "7c1f1f05-bf13-4ee2-b794-5ce5a9d0f20f",
   "metadata": {},
   "outputs": [],
   "source": [
    "wvl1 = samples_df.loc['494':'495',:].squeeze() # First A peak of phycobilin extracts\n",
    "wvl2 = samples_df.loc['800':'801',:].squeeze() #800 nm"
   ]
  },
  {
   "cell_type": "code",
   "execution_count": 105,
   "id": "8811a282-e8eb-443d-9c3a-8388c2e354e6",
   "metadata": {},
   "outputs": [],
   "source": [
    "psnd_494 = (wvl2 - wvl1) / (wvl2 + wvl1)"
   ]
  },
  {
   "cell_type": "code",
   "execution_count": 106,
   "id": "8d68b991-b05d-4953-a30f-90db42498a55",
   "metadata": {},
   "outputs": [],
   "source": [
    "sp_indices['ND_PE494'] = psnd_494.T "
   ]
  },
  {
   "cell_type": "markdown",
   "id": "8559968c-141f-4353-931a-5f2b791c050a",
   "metadata": {
    "tags": []
   },
   "source": [
    "### Pigment Specific Simple Ratio for Phycobilin 494 nm\n",
    "- PSSR_494 = R800 / R494"
   ]
  },
  {
   "cell_type": "code",
   "execution_count": 107,
   "id": "2cfbd0bf-9096-41b1-8b5b-4c85ac4258c3",
   "metadata": {},
   "outputs": [],
   "source": [
    "wvl1 = samples_df.loc['494':'495',:].squeeze() # First A peak of phycobilin extracts\n",
    "wvl2 = samples_df.loc['800':'801',:].squeeze() #800 nm"
   ]
  },
  {
   "cell_type": "code",
   "execution_count": 108,
   "id": "2f4e5bfa-83c6-4e41-a2ef-51ccd70e574c",
   "metadata": {},
   "outputs": [],
   "source": [
    "pssr_494 = wvl2 / wvl1"
   ]
  },
  {
   "cell_type": "code",
   "execution_count": 109,
   "id": "010ef620-6fbb-4a82-abe7-5d063e12bb5c",
   "metadata": {},
   "outputs": [],
   "source": [
    "sp_indices['SR_PE494'] = pssr_494.T"
   ]
  },
  {
   "cell_type": "markdown",
   "id": "fddbf059-de5d-4522-9c79-3abe7a3cce33",
   "metadata": {
    "tags": []
   },
   "source": [
    "### Pigment Specific Normalized Difference for Phycoerythrin (563 nm)\n",
    "- PSND_563 = (R800 - R563) / (R800 + R563)\n",
    "- Based on Beer & Eshel equation and our [A] peaks"
   ]
  },
  {
   "cell_type": "code",
   "execution_count": 110,
   "id": "13fb7762-72fa-4b60-ad57-8de6d07e8467",
   "metadata": {},
   "outputs": [],
   "source": [
    "wvl1 = samples_df.loc['562':'564',:].squeeze() \n",
    "wvl2 = samples_df.loc['799':'801',:].squeeze()"
   ]
  },
  {
   "cell_type": "code",
   "execution_count": 111,
   "id": "c066609f-ae0b-45d9-a6a9-4ee6c1680e1d",
   "metadata": {},
   "outputs": [],
   "source": [
    "psnd_563 = (wvl2 - wvl1) / (wvl2 + wvl1)"
   ]
  },
  {
   "cell_type": "code",
   "execution_count": 112,
   "id": "f6807d55-5672-4e28-9b41-e58e7141812c",
   "metadata": {},
   "outputs": [],
   "source": [
    "sp_indices['ND_PE563'] = psnd_563.T"
   ]
  },
  {
   "cell_type": "markdown",
   "id": "0ae10845-2f6a-4ef1-a827-a4b5a9230dd5",
   "metadata": {
    "tags": []
   },
   "source": [
    "### Pigment Specific Simple Ratio for Phycoerythrin (563 nm)\n",
    "- PSSR_563 = R800 / R563"
   ]
  },
  {
   "cell_type": "code",
   "execution_count": 113,
   "id": "3b5d89f9-adf5-4b0a-af21-c0844fe648c7",
   "metadata": {},
   "outputs": [],
   "source": [
    "wvl1 = samples_df.loc['562':'564',:].squeeze()\n",
    "wvl2 = samples_df.loc['799':'801',:].squeeze()"
   ]
  },
  {
   "cell_type": "code",
   "execution_count": 114,
   "id": "61f5336a-5d70-4721-9888-f17e3ec3889b",
   "metadata": {},
   "outputs": [],
   "source": [
    "pssr_563 = wvl2 / wvl1"
   ]
  },
  {
   "cell_type": "code",
   "execution_count": 115,
   "id": "90659c05-f908-4a67-87dd-bd544a8c672d",
   "metadata": {},
   "outputs": [],
   "source": [
    "sp_indices['SR_PE563'] = pssr_563.T"
   ]
  },
  {
   "cell_type": "markdown",
   "id": "ef3495b6-581f-4286-92e5-7540ee76ba38",
   "metadata": {
    "tags": []
   },
   "source": [
    "### Pigment Specific Normalized Difference for Phycocyanin (618 nm)\n",
    "- PSND_618 = (R800 - R618) / (R800 + R618)\n",
    "- Based on Beer & Eshel equation\n",
    "- No peak detected in our [A] phycobilin extractions"
   ]
  },
  {
   "cell_type": "code",
   "execution_count": 116,
   "id": "c723276d-dc4a-4844-a25e-cf86e59d357d",
   "metadata": {},
   "outputs": [],
   "source": [
    "wvl1 = samples_df.loc['617':'619',:].squeeze()\n",
    "wvl2 = samples_df.loc['799':'801',:].squeeze()\n",
    "\n",
    "psnd_618 = (wvl2 - wvl1) / (wvl2 + wvl1)\n",
    "\n",
    "sp_indices['ND_PC618'] = psnd_618.T"
   ]
  },
  {
   "cell_type": "markdown",
   "id": "5ceb637c-d38c-4138-a402-642e9ec9e1c5",
   "metadata": {
    "tags": []
   },
   "source": [
    "### Pigment Specific Simple Ratio for Phycocyanin (618 nm)\n",
    "- PSSR_618 = R800 / R618"
   ]
  },
  {
   "cell_type": "code",
   "execution_count": 117,
   "id": "2610eeda-3e68-46c7-92a7-c2c73e0f4ce6",
   "metadata": {},
   "outputs": [],
   "source": [
    "wvl1 = samples_df.loc['617':'619',:].squeeze()\n",
    "wvl2 = samples_df.loc['799':'801',:].squeeze()\n",
    "\n",
    "pssr_618 = wvl2 / wvl1\n",
    "\n",
    "sp_indices['SR_PC618'] = pssr_618.T"
   ]
  },
  {
   "cell_type": "markdown",
   "id": "e160151d-1d9d-4e6c-b0b7-700fc742e11f",
   "metadata": {
    "tags": []
   },
   "source": [
    "### Pigment Specific Normalized Difference for Allophycocyanin (652 nm)\n",
    "- PSND_652 = (R800 - R652) / (R800 + R652)\n",
    "- Based on Kursar et al equation & Mumby table\n",
    "- Also from Tadmor-Shalev et al.\n",
    "- No peak detected in our [A] phycobilin extractions"
   ]
  },
  {
   "cell_type": "code",
   "execution_count": 118,
   "id": "a03d0168-aa36-4555-a6e1-c4be240f62e0",
   "metadata": {},
   "outputs": [],
   "source": [
    "wvl1 = samples_df.loc['651':'652',:].squeeze()\n",
    "wvl2 = samples_df.loc['800':'801',:].squeeze()"
   ]
  },
  {
   "cell_type": "code",
   "execution_count": 119,
   "id": "7036c040-f80b-44d1-bcd9-5014f1926e03",
   "metadata": {},
   "outputs": [],
   "source": [
    "psnd_652 = (wvl2 - wvl1) / (wvl2 + wvl1)"
   ]
  },
  {
   "cell_type": "code",
   "execution_count": 120,
   "id": "877270d3-da3a-490e-a9e2-7b7cd891db61",
   "metadata": {},
   "outputs": [],
   "source": [
    "sp_indices['ND_APC652'] = psnd_652.T"
   ]
  },
  {
   "cell_type": "markdown",
   "id": "33285e41-7e8c-4567-83b9-65768e43a1a2",
   "metadata": {
    "tags": []
   },
   "source": [
    "### Pigment Specific Simple Ratio for Allophycocyanin (652 nm)\n",
    "- PSSR_652 = R800 / R652"
   ]
  },
  {
   "cell_type": "code",
   "execution_count": 121,
   "id": "37fea049-ed56-41e7-92d1-3e8eb8c60caf",
   "metadata": {},
   "outputs": [],
   "source": [
    "wvl1 = samples_df.loc['651':'652',:].squeeze()\n",
    "wvl2 = samples_df.loc['800':'801',:].squeeze()"
   ]
  },
  {
   "cell_type": "code",
   "execution_count": 122,
   "id": "4e259150-db94-4f4e-bf56-648cda64603a",
   "metadata": {},
   "outputs": [],
   "source": [
    "pssr_652 = wvl2 / wvl1"
   ]
  },
  {
   "cell_type": "code",
   "execution_count": 123,
   "id": "9c09a48d-3a2b-4152-a5f1-202aec300eb4",
   "metadata": {},
   "outputs": [],
   "source": [
    "sp_indices['SR_APC652'] = pssr_652.T"
   ]
  },
  {
   "cell_type": "markdown",
   "id": "40b21292-272b-470a-829e-76994045ab4c",
   "metadata": {
    "tags": []
   },
   "source": [
    "## No Validation: Carotenoids & Anthocyanin"
   ]
  },
  {
   "cell_type": "markdown",
   "id": "72898a85-6cce-40a7-aacb-ea9194568db4",
   "metadata": {
    "jp-MarkdownHeadingCollapsed": true,
    "tags": []
   },
   "source": [
    "### Anthocyanin Reflectance Index & Modified Index\n",
    "ARI = (1 / R550) - (1 / R700) \n",
    "MARI = ((1 / R550) - (1 / R700)) * R800"
   ]
  },
  {
   "cell_type": "code",
   "execution_count": 124,
   "id": "48cbf845-788f-4788-b618-3ab71b66fef9",
   "metadata": {},
   "outputs": [],
   "source": [
    "#wvl1 = samples_df.loc['549':'551',:].squeeze()\n",
    "#wvl2 = samples_df.loc['699':'701',:].squeeze()\n",
    "#wvl3 = samples_df.loc['799':'801',:].squeeze() #800 nm\n",
    "\n",
    "#print(wvl1, wvl2)\n",
    "\n",
    "#ari = (1 / wvl1) - (1 / wvl2)\n",
    "#mari = ((1 / wvl1) - (1 / wvl2)) * wvl3\n",
    "\n",
    "#sp_indices['ARI'] = ari.T\n",
    "#sp_indices['MARI'] = mari.T"
   ]
  },
  {
   "cell_type": "markdown",
   "id": "ed4c70c3-7747-459c-90a9-79252e5be161",
   "metadata": {
    "tags": []
   },
   "source": [
    "#### Pigment Specific Normalized Difference for Carotenoids\n",
    "PSND_CAR = (R800 - R470) / (R800 + R470)"
   ]
  },
  {
   "cell_type": "code",
   "execution_count": 125,
   "id": "09209c46-f32a-40e0-b70f-9664589216d5",
   "metadata": {},
   "outputs": [],
   "source": [
    "#wvl1 = samples_df.loc['469':'471',:].squeeze() #470 nm\n",
    "#wvl2 = samples_df.loc['799':'801',:].squeeze() #800 nm\n",
    "\n",
    "#psndcar = (wvl2 - wvl1) / (wvl2 + wvl1)\n",
    "\n",
    "#sp_indices['PSNDCAR'] = psndcar.T"
   ]
  },
  {
   "cell_type": "markdown",
   "id": "c5c32673-e89b-4ffe-a6cd-6f91e5679131",
   "metadata": {
    "jp-MarkdownHeadingCollapsed": true,
    "tags": []
   },
   "source": [
    "### Carotenoid Reflectance Index 550\n",
    "CRI550 = (1 / R510) - (1 / R550)"
   ]
  },
  {
   "cell_type": "code",
   "execution_count": 126,
   "id": "25dad19b-7daa-4af6-8c8c-4bfb6d75436e",
   "metadata": {},
   "outputs": [],
   "source": [
    "#wvl1 = samples_df.loc['509':'511',:].squeeze() #510 nm\n",
    "#wvl2 = samples_df.loc['549':'551',:].squeeze() #550 nm\n",
    "#print(wvl1, wvl2)\n",
    "\n",
    "#cri550 = (1/wvl1) - (1/wvl2)\n",
    "\n",
    "#sp_indices['CRI550'] = cri550.T"
   ]
  },
  {
   "cell_type": "markdown",
   "id": "4dd59cc5-aaa9-4c69-bba3-36a295068a57",
   "metadata": {
    "jp-MarkdownHeadingCollapsed": true,
    "tags": []
   },
   "source": [
    "### Carotenoid Reflectance Index 700\n",
    "CRI700 = (1 / R510) - (1 / R700)"
   ]
  },
  {
   "cell_type": "code",
   "execution_count": 127,
   "id": "c013c06e-4a6e-490a-86df-0cb9abf7f62d",
   "metadata": {},
   "outputs": [],
   "source": [
    "#wvl1 = samples_df.loc['509':'511',:].squeeze() #510 nm\n",
    "#wvl2 = samples_df.loc['699':'701',:].squeeze() #700 nm\n",
    "#print(wvl1, wvl2)\n",
    "\n",
    "#cri700 = (1/wvl1) - (1/wvl2)\n",
    "\n",
    "#type(cri700)\n",
    "\n",
    "#sp_indices['CRI700'] = cri700.T"
   ]
  },
  {
   "cell_type": "markdown",
   "id": "ba5ab8df-7b27-4538-8566-087d95f85425",
   "metadata": {
    "tags": []
   },
   "source": [
    "## Area Under Curve Normalized by Depth"
   ]
  },
  {
   "cell_type": "code",
   "execution_count": 128,
   "id": "8ec70672-2513-4d28-a8ec-430dc9a99b3a",
   "metadata": {},
   "outputs": [],
   "source": [
    "# Libraries\n",
    "import scipy.signal as ss\n",
    "import pysptools.spectro as spectro"
   ]
  },
  {
   "cell_type": "markdown",
   "id": "ee5db079-6842-41ba-99f1-3beb60e5ee0e",
   "metadata": {
    "tags": []
   },
   "source": [
    "### Phycobilins\n",
    "#### 494 [A]bsorbance peak"
   ]
  },
  {
   "cell_type": "code",
   "execution_count": 129,
   "id": "0c8c8817-320b-4e6f-933e-aef9304850b8",
   "metadata": {
    "tags": []
   },
   "outputs": [
    {
     "name": "stdout",
     "output_type": "stream",
     "text": [
      "AUCND 494 nm\n"
     ]
    }
   ],
   "source": [
    "sample_dict = {}\n",
    "\n",
    "anmb494 = []\n",
    "\n",
    "c_start = '480'\n",
    "c_stop = '520'\n",
    "\n",
    "print('AUCND 494 nm')\n",
    "for col in samples_df:\n",
    "    sav_gol_filter = ss.savgol_filter(samples_df.loc[c_start:c_stop,:][col].values, 3, 1) # Select bands and column values, perform SG filter.\n",
    "    pre_continuum = list(sav_gol_filter) # Convert to list\n",
    "    wvl = list(samples_df.loc[c_start:c_stop,:].index.values) # Select bands\n",
    "    conv_h_q = spectro.FeaturesConvexHullQuotient(pre_continuum, wvl, baseline=0.999) # Continuum removal object\n",
    "    sample_dict[col] = conv_h_q # Store in dictionary\n",
    "    auc = sample_dict[col].get_area(feat_no=1)\n",
    "    mbd = sample_dict[col].get_absorbtion_depth(feat_no=1)\n",
    "    anmb_480_520 = auc/mbd\n",
    "    anmb494.append(anmb_480_520)\n",
    "    #print(col, anmb_480_520)\n",
    "\n",
    "sp_indices['AUC_PE494'] = anmb494"
   ]
  },
  {
   "cell_type": "markdown",
   "id": "366f6969-94f5-45e9-b916-868edabe4049",
   "metadata": {
    "tags": []
   },
   "source": [
    "#### 563 Absorbance peak"
   ]
  },
  {
   "cell_type": "code",
   "execution_count": 130,
   "id": "be3928b0-d08c-4dd2-8562-0e24a11e556c",
   "metadata": {
    "tags": []
   },
   "outputs": [
    {
     "name": "stdout",
     "output_type": "stream",
     "text": [
      "AUCND 563 nm\n"
     ]
    }
   ],
   "source": [
    "sample_dict = {}\n",
    "\n",
    "anmb563 = []\n",
    "\n",
    "c_start = '543'\n",
    "c_stop = '583'\n",
    "\n",
    "print('AUCND 563 nm')\n",
    "for col in samples_df:\n",
    "    sav_gol_filter = ss.savgol_filter(samples_df.loc[c_start:c_stop,:][col].values, 3, 1) # Select bands and column values, perform SG filter.\n",
    "    pre_continuum = list(sav_gol_filter) # Convert to list\n",
    "    wvl = list(samples_df.loc[c_start:c_stop,:].index.values) # Select bands\n",
    "    conv_h_q = spectro.FeaturesConvexHullQuotient(pre_continuum, wvl, baseline=0.999) # Continuum removal object\n",
    "    sample_dict[col] = conv_h_q # Store in dictionary\n",
    "    auc = sample_dict[col].get_area(feat_no=1) # Area under curve\n",
    "    mbd = sample_dict[col].get_absorbtion_depth(feat_no=1) # Max band depth\n",
    "    anmbd = auc/mbd # Area normalized by max depth\n",
    "    anmb563.append(anmbd)\n",
    "    #print(col, anmbd)\n",
    "\n",
    "sp_indices['AUC_PE563'] = anmb563"
   ]
  },
  {
   "cell_type": "markdown",
   "id": "6ffc46f5-849f-4a2c-97c4-a1d240046450",
   "metadata": {
    "tags": []
   },
   "source": [
    "### Chlorophylls\n",
    "#### 434 A peak"
   ]
  },
  {
   "cell_type": "code",
   "execution_count": 131,
   "id": "f8d307a3-4dce-4b4d-b170-3fb938088a37",
   "metadata": {
    "tags": []
   },
   "outputs": [
    {
     "name": "stdout",
     "output_type": "stream",
     "text": [
      "AUCND 434 nm\n"
     ]
    }
   ],
   "source": [
    "sample_dict = {}\n",
    "\n",
    "anmb434 = []\n",
    "\n",
    "c_start = '414'\n",
    "c_stop = '454'\n",
    "\n",
    "print('AUCND 434 nm')\n",
    "for col in samples_df:\n",
    "    sav_gol_filter = ss.savgol_filter(samples_df.loc[c_start:c_stop,:][col].values, 3, 1) # Select bands and column values, perform SG filter.\n",
    "    pre_continuum = list(sav_gol_filter) # Convert to list\n",
    "    wvl = list(samples_df.loc[c_start:c_stop,:].index.values) # Select bands\n",
    "    conv_h_q = spectro.FeaturesConvexHullQuotient(pre_continuum, wvl, baseline=0.999) # Continuum removal object\n",
    "    sample_dict[col] = conv_h_q # Store in dictionary\n",
    "    auc = sample_dict[col].get_area(feat_no=1)\n",
    "    mbd = sample_dict[col].get_absorbtion_depth(feat_no=1)\n",
    "    anmbd = auc/mbd\n",
    "    anmb434.append(anmbd)\n",
    "    #print(col, anmbd)\n",
    "\n",
    "sp_indices['AUC_CHL434'] = anmb434"
   ]
  },
  {
   "cell_type": "markdown",
   "id": "f3124286-205e-4001-b173-118c63c4e0e5",
   "metadata": {},
   "source": [
    "#### 417 A peak?"
   ]
  },
  {
   "cell_type": "code",
   "execution_count": 132,
   "id": "cd4cf802-408c-4344-8728-e590180410b3",
   "metadata": {
    "tags": []
   },
   "outputs": [],
   "source": [
    "# sample_dict = {}\n",
    "\n",
    "# anmb417 = []\n",
    "\n",
    "# c_start = '400'\n",
    "# c_stop = '440'\n",
    "\n",
    "# print('AUCND 417 nm')\n",
    "# for col in samples_df:\n",
    "#     sav_gol_filter = ss.savgol_filter(samples_df.loc[c_start:c_stop,:][col].values, 3, 1) # Select bands and column values, perform SG filter.\n",
    "#     pre_continuum = list(sav_gol_filter) # Convert to list\n",
    "#     wvl = list(samples_df.loc[c_start:c_stop,:].index.values) # Select bands\n",
    "#     conv_h_q = spectro.FeaturesConvexHullQuotient(pre_continuum, wvl, baseline=0.999) # Continuum removal object\n",
    "#     sample_dict[col] = conv_h_q # Store in dictionary\n",
    "#     auc = sample_dict[col].get_area(feat_no=1)\n",
    "#     mbd = sample_dict[col].get_absorbtion_depth(feat_no=1)\n",
    "#     anmbd = auc/mbd\n",
    "#     anmb417.append(anmbd)\n",
    "#     #print(col, anmbd)\n",
    "\n",
    "# sp_indices['AUC417'] = anmb417"
   ]
  },
  {
   "cell_type": "markdown",
   "id": "398d64d6-5cb6-4a6c-9ff8-93e9ab6a1a8e",
   "metadata": {
    "tags": []
   },
   "source": [
    "#### 624 A peak\n",
    "- 624.38"
   ]
  },
  {
   "cell_type": "code",
   "execution_count": 133,
   "id": "846ff8f3-4636-4106-962c-932287252760",
   "metadata": {
    "tags": []
   },
   "outputs": [
    {
     "name": "stdout",
     "output_type": "stream",
     "text": [
      "AUCND 624 nm\n"
     ]
    }
   ],
   "source": [
    "sample_dict = {}\n",
    "\n",
    "anmb624 = []\n",
    "\n",
    "c_start = '604'\n",
    "c_stop = '644'\n",
    "\n",
    "print('AUCND 624 nm')\n",
    "for col in samples_df:\n",
    "    sav_gol_filter = ss.savgol_filter(samples_df.loc[c_start:c_stop,:][col].values, 3, 1) # Select bands and column values, perform SG filter.\n",
    "    pre_continuum = list(sav_gol_filter) # Convert to list\n",
    "    wvl = list(samples_df.loc[c_start:c_stop,:].index.values) # Select bands\n",
    "    conv_h_q = spectro.FeaturesConvexHullQuotient(pre_continuum, wvl, baseline=0.999) # Continuum removal object\n",
    "    sample_dict[col] = conv_h_q # Store in dictionary\n",
    "    auc = sample_dict[col].get_area(feat_no=1)\n",
    "    mbd = sample_dict[col].get_absorbtion_depth(feat_no=1)\n",
    "    anmbd = auc/mbd\n",
    "    anmb624.append(anmbd)\n",
    "    #print(col, anmbd)\n",
    "\n",
    "sp_indices['AUC_CHL624'] = anmb624"
   ]
  },
  {
   "cell_type": "markdown",
   "id": "4214cc8e-d3aa-40c4-a770-26cc9f2afc49",
   "metadata": {},
   "source": [
    "#### 665 A peak"
   ]
  },
  {
   "cell_type": "code",
   "execution_count": 134,
   "id": "f5a3f468-a30d-4eea-ac0a-6b3be8a8c6f9",
   "metadata": {},
   "outputs": [
    {
     "name": "stdout",
     "output_type": "stream",
     "text": [
      "AUCND 665 nm\n"
     ]
    }
   ],
   "source": [
    "sample_dict = {}\n",
    "\n",
    "anmb665 = []\n",
    "\n",
    "c_start = '655'\n",
    "c_stop = '675'\n",
    "\n",
    "print('AUCND 665 nm')\n",
    "for col in samples_df:\n",
    "    sav_gol_filter = ss.savgol_filter(samples_df.loc[c_start:c_stop,:][col].values, 3, 1) # Select bands and column values, perform SG filter.\n",
    "    pre_continuum = list(sav_gol_filter) # Convert to list\n",
    "    wvl = list(samples_df.loc[c_start:c_stop,:].index.values) # Select bands\n",
    "    conv_h_q = spectro.FeaturesConvexHullQuotient(pre_continuum, wvl, baseline=0.999) # Continuum removal object\n",
    "    sample_dict[col] = conv_h_q # Store in dictionary\n",
    "    auc = sample_dict[col].get_area(feat_no=1)\n",
    "    mbd = sample_dict[col].get_absorbtion_depth(feat_no=1)\n",
    "    anmbd = auc/mbd\n",
    "    anmb665.append(anmbd)\n",
    "    #print(col, anmbd)\n",
    "\n",
    "sp_indices['AUC_CHL665'] = anmb665"
   ]
  },
  {
   "cell_type": "markdown",
   "id": "6cc8bfac-c341-4dd4-a517-75129a27e0cd",
   "metadata": {
    "tags": []
   },
   "source": [
    "## Simple Reflectance"
   ]
  },
  {
   "cell_type": "markdown",
   "id": "babf4b3d-fef0-4403-b3fa-a72a86a4c42d",
   "metadata": {},
   "source": [
    "### R417 (?)"
   ]
  },
  {
   "cell_type": "code",
   "execution_count": 135,
   "id": "51535cb9-f220-4f34-a081-58f54b0febd0",
   "metadata": {},
   "outputs": [],
   "source": [
    "# wvl = samples_df.loc['416':'417',:].squeeze()\n",
    "# wvl\n",
    "# sp_indices['R417'] = wvl"
   ]
  },
  {
   "cell_type": "markdown",
   "id": "a97c3ae2-2fe2-4d30-af13-671dd9310279",
   "metadata": {},
   "source": [
    "### R434"
   ]
  },
  {
   "cell_type": "code",
   "execution_count": 136,
   "id": "6ae32e75-1889-42bf-996e-4e5832da48fc",
   "metadata": {},
   "outputs": [],
   "source": [
    "wvl = samples_df.loc['433':'434',:].squeeze()\n",
    "wvl\n",
    "sp_indices['R_CHL434'] = wvl"
   ]
  },
  {
   "cell_type": "markdown",
   "id": "8f175e52-36ec-42a1-ada0-fab3dbdc25db",
   "metadata": {},
   "source": [
    "### R494"
   ]
  },
  {
   "cell_type": "code",
   "execution_count": 137,
   "id": "f5b30150-bf05-40a4-9da5-791577e1c9d4",
   "metadata": {},
   "outputs": [],
   "source": [
    "wvl = samples_df.loc['494':'495',:].squeeze()\n",
    "wvl\n",
    "sp_indices['R_PE494'] = wvl"
   ]
  },
  {
   "cell_type": "markdown",
   "id": "7b209fac-8d7b-47f4-9997-7ee8ff1009ea",
   "metadata": {},
   "source": [
    "### R563"
   ]
  },
  {
   "cell_type": "code",
   "execution_count": 138,
   "id": "24f29920-deb0-4326-954e-252f13b7a4c7",
   "metadata": {},
   "outputs": [],
   "source": [
    "wvl = samples_df.loc['562':'563',:].squeeze()\n",
    "wvl\n",
    "sp_indices['R_PE563'] = wvl"
   ]
  },
  {
   "cell_type": "markdown",
   "id": "7bcba6ef-a2c5-4b84-885c-bd38786188ab",
   "metadata": {},
   "source": [
    "### R624"
   ]
  },
  {
   "cell_type": "code",
   "execution_count": 139,
   "id": "cacd3de6-795e-47b9-b80f-0c9ba3400ab2",
   "metadata": {},
   "outputs": [],
   "source": [
    "wvl = samples_df.loc['624':'625',:].squeeze()\n",
    "wvl\n",
    "sp_indices['R_CHL624'] = wvl"
   ]
  },
  {
   "cell_type": "markdown",
   "id": "25dbcd93-0c77-4fc2-a716-78b303bb1c6e",
   "metadata": {},
   "source": [
    "### R665"
   ]
  },
  {
   "cell_type": "code",
   "execution_count": 140,
   "id": "f8be8ef3-71e6-4999-bf82-12316471cb40",
   "metadata": {},
   "outputs": [],
   "source": [
    "wvl = samples_df.loc['665':'666',:].squeeze()\n",
    "wvl\n",
    "sp_indices['R_CHL665'] = wvl"
   ]
  },
  {
   "cell_type": "markdown",
   "id": "260c2bec-8954-4b45-b6dc-1db6d4b54b49",
   "metadata": {
    "tags": []
   },
   "source": [
    "## Simple first derivative [d]"
   ]
  },
  {
   "cell_type": "markdown",
   "id": "4ca7cb2a-77d4-46e8-bf11-6ede1ba60c18",
   "metadata": {},
   "source": [
    "### d417 (?)"
   ]
  },
  {
   "cell_type": "code",
   "execution_count": 141,
   "id": "ade2326f-f02e-48e4-9392-113ed51eb9dc",
   "metadata": {},
   "outputs": [],
   "source": [
    "# wvl = deriv_df.loc['416':'417',:].squeeze()\n",
    "# wvl\n",
    "# sp_indices['d417'] = wvl"
   ]
  },
  {
   "cell_type": "markdown",
   "id": "5251ffc5-33fe-4c0e-b866-6e2d82613847",
   "metadata": {},
   "source": [
    "### d434"
   ]
  },
  {
   "cell_type": "code",
   "execution_count": 142,
   "id": "4037905c-5ffd-460f-a1d0-f49d074f520a",
   "metadata": {},
   "outputs": [],
   "source": [
    "wvl = deriv_df.loc['433':'434',:].squeeze()\n",
    "wvl\n",
    "sp_indices['d_CHL434'] = wvl"
   ]
  },
  {
   "cell_type": "markdown",
   "id": "072b4b57-db66-43be-812f-151f0d8aaa6f",
   "metadata": {},
   "source": [
    "### d494"
   ]
  },
  {
   "cell_type": "code",
   "execution_count": 143,
   "id": "a6dd578d-631b-4bd0-86d8-6b5159378d2b",
   "metadata": {},
   "outputs": [],
   "source": [
    "wvl = deriv_df.loc['494':'495',:].squeeze()\n",
    "wvl\n",
    "sp_indices['d_PE494'] = wvl"
   ]
  },
  {
   "cell_type": "markdown",
   "id": "9e77596d-8122-4849-a7d6-e67bc91d3528",
   "metadata": {},
   "source": [
    "### d563"
   ]
  },
  {
   "cell_type": "code",
   "execution_count": 144,
   "id": "5b82b6b0-fe7d-44c9-a766-e5c406dd9d0e",
   "metadata": {},
   "outputs": [],
   "source": [
    "wvl = deriv_df.loc['562':'563',:].squeeze()\n",
    "wvl\n",
    "sp_indices['d_PE563'] = wvl"
   ]
  },
  {
   "cell_type": "markdown",
   "id": "425609be-c0f1-4801-bc6c-62b34bd3dc1e",
   "metadata": {},
   "source": [
    "### d624"
   ]
  },
  {
   "cell_type": "code",
   "execution_count": 145,
   "id": "79e93111-da3c-40d2-9cc6-cb4d0bae3e53",
   "metadata": {},
   "outputs": [],
   "source": [
    "wvl = deriv_df.loc['624':'625',:].squeeze()\n",
    "wvl\n",
    "sp_indices['d_CHL624'] = wvl"
   ]
  },
  {
   "cell_type": "markdown",
   "id": "2172af36-7917-421b-a01e-b5d93cabe52f",
   "metadata": {},
   "source": [
    "### d665"
   ]
  },
  {
   "cell_type": "code",
   "execution_count": 146,
   "id": "8497a18a-6619-4b08-a320-faf76a4a6da0",
   "metadata": {},
   "outputs": [],
   "source": [
    "wvl = deriv_df.loc['665':'666',:].squeeze()\n",
    "wvl\n",
    "sp_indices['d_CHL665'] = wvl"
   ]
  },
  {
   "cell_type": "markdown",
   "id": "f29df169-c389-4d95-a94c-99d7d2c9d03b",
   "metadata": {
    "tags": []
   },
   "source": [
    "## * 1st Derivative* Indices\n",
    "### Pigment Specific  Normalized Difference for Phycobilin 494 nm\n",
    "#### dND494\n",
    "- dND_494 = (d800 - d494) / (d800 + d494)"
   ]
  },
  {
   "cell_type": "code",
   "execution_count": 147,
   "id": "118739d0-feff-4919-b1a4-8fbafda899ad",
   "metadata": {},
   "outputs": [],
   "source": [
    "wvl1 = deriv_df.loc['494':'495',:].squeeze() # First A peak of phycobilin extracts\n",
    "wvl2 = deriv_df.loc['800':'801',:].squeeze() #800 nm"
   ]
  },
  {
   "cell_type": "code",
   "execution_count": 148,
   "id": "1040f698-6f30-4929-ab08-203bb3324e9d",
   "metadata": {},
   "outputs": [],
   "source": [
    "dND_494 = (wvl2 - wvl1) / (wvl2 + wvl1)"
   ]
  },
  {
   "cell_type": "code",
   "execution_count": 149,
   "id": "52d6afc7-4991-42ed-9249-64869144e746",
   "metadata": {},
   "outputs": [],
   "source": [
    "sp_indices['dND_PE494'] = dND_494.T "
   ]
  },
  {
   "cell_type": "markdown",
   "id": "76a62165-ddc3-4b12-9f89-e46536554ac1",
   "metadata": {
    "tags": []
   },
   "source": [
    "### Pigment Specific Simple Ratio for Phycobilin 494 nm\n",
    "### dSR494\n",
    "- dSR_494 = d800 / d494"
   ]
  },
  {
   "cell_type": "code",
   "execution_count": 150,
   "id": "a1eb5fbe-d33d-4dda-9cd8-57441a8e0f3b",
   "metadata": {},
   "outputs": [],
   "source": [
    "wvl1 = deriv_df.loc['494':'495',:].squeeze() # First A peak of phycobilin extracts\n",
    "wvl2 = deriv_df.loc['800':'801',:].squeeze() #800 nm"
   ]
  },
  {
   "cell_type": "code",
   "execution_count": 151,
   "id": "aa680b63-a342-426a-a0d9-4465653353ab",
   "metadata": {},
   "outputs": [],
   "source": [
    "dSR_494 = wvl2 / wvl1"
   ]
  },
  {
   "cell_type": "code",
   "execution_count": 152,
   "id": "4c3080ca-6408-4074-903c-048bb60c81ba",
   "metadata": {},
   "outputs": [],
   "source": [
    "sp_indices['dSR_PE494'] = dSR_494.T"
   ]
  },
  {
   "cell_type": "markdown",
   "id": "da53070e-d9b6-4295-b21d-eeb36218cdae",
   "metadata": {
    "tags": []
   },
   "source": [
    "### Pigment Specific Normalized Difference for Phycoerythrin (563 nm)\n",
    "- dND_563 = (d800 - d563) / (d800 + d563)\n",
    "- Based on Beer & Eshel equation and our [A] peaks"
   ]
  },
  {
   "cell_type": "code",
   "execution_count": 153,
   "id": "25ea5664-c495-4159-859d-4c5155e26f84",
   "metadata": {},
   "outputs": [],
   "source": [
    "wvl1 = deriv_df.loc['562':'564',:].squeeze() \n",
    "wvl2 = deriv_df.loc['799':'801',:].squeeze()"
   ]
  },
  {
   "cell_type": "code",
   "execution_count": 154,
   "id": "5c5deb2b-ddab-49ef-b883-91af81d91eed",
   "metadata": {},
   "outputs": [],
   "source": [
    "dND_563 = (wvl2 - wvl1) / (wvl2 + wvl1)"
   ]
  },
  {
   "cell_type": "code",
   "execution_count": 155,
   "id": "cf3cbbb2-8f60-4c30-9420-8d5b18fec81a",
   "metadata": {},
   "outputs": [],
   "source": [
    "sp_indices['dND_PE563'] = dND_563.T"
   ]
  },
  {
   "cell_type": "markdown",
   "id": "0278f07d-71a4-4370-973f-f42eccdcdc67",
   "metadata": {
    "tags": []
   },
   "source": [
    "### Pigment Specific Simple Ratio for Phycoerythrin\n",
    "- dSR_563 = d800 / d563"
   ]
  },
  {
   "cell_type": "code",
   "execution_count": 156,
   "id": "66c24590-9a7d-4ef2-82c9-cae90f2a4528",
   "metadata": {},
   "outputs": [],
   "source": [
    "wvl1 = deriv_df.loc['562':'564',:].squeeze()\n",
    "wvl2 = deriv_df.loc['799':'801',:].squeeze()"
   ]
  },
  {
   "cell_type": "code",
   "execution_count": 157,
   "id": "e6f0d006-66c7-4527-ab3a-a2190b9e684b",
   "metadata": {},
   "outputs": [],
   "source": [
    "dSR_563 = wvl2 / wvl1"
   ]
  },
  {
   "cell_type": "code",
   "execution_count": 158,
   "id": "414e504b-712f-423c-9979-c72f5da5d138",
   "metadata": {},
   "outputs": [],
   "source": [
    "sp_indices['dSR_PE563'] = dSR_563.T"
   ]
  },
  {
   "cell_type": "markdown",
   "id": "302f7d60-ba50-4fb7-97b9-01ea8ac7119f",
   "metadata": {
    "tags": []
   },
   "source": [
    "### Pigment Specific Normalized Difference for Phycocyanin\n",
    "- dND_PC = (d800 - d618) / (d800 + d618)\n",
    "- Based on Beer & Eshel equation\n",
    "- No peak detected in our [A] phycobilin extractions"
   ]
  },
  {
   "cell_type": "code",
   "execution_count": 159,
   "id": "2e082eaa-08d6-4f2c-905e-10e6eee29447",
   "metadata": {},
   "outputs": [],
   "source": [
    "wvl1 = deriv_df.loc['617':'619',:].squeeze()\n",
    "wvl2 = deriv_df.loc['799':'801',:].squeeze()"
   ]
  },
  {
   "cell_type": "code",
   "execution_count": 160,
   "id": "83dc7b89-8a72-46e8-acc3-f973c5349395",
   "metadata": {},
   "outputs": [],
   "source": [
    "dND_618 = (wvl2 - wvl1) / (wvl2 + wvl1)"
   ]
  },
  {
   "cell_type": "code",
   "execution_count": 161,
   "id": "ebdd55d8-9b14-441c-bb3b-3e3ff92ab8b6",
   "metadata": {},
   "outputs": [],
   "source": [
    "sp_indices['dND_PC618'] = dND_618.T"
   ]
  },
  {
   "cell_type": "markdown",
   "id": "4275e20c-4b24-47a6-86e9-ae4dfe9055a4",
   "metadata": {
    "tags": []
   },
   "source": [
    "### Pigment Specific Simple Ratio for Phycocyanin\n",
    "- dSR_618 = d800 / d618"
   ]
  },
  {
   "cell_type": "code",
   "execution_count": 162,
   "id": "2b62e5fa-1a59-415e-95e4-9b4790a4955f",
   "metadata": {},
   "outputs": [],
   "source": [
    "wvl1 = deriv_df.loc['617':'619',:].squeeze()\n",
    "wvl2 = deriv_df.loc['799':'801',:].squeeze()"
   ]
  },
  {
   "cell_type": "code",
   "execution_count": 163,
   "id": "3176903a-b071-4e98-a17f-4af053a4cadb",
   "metadata": {},
   "outputs": [],
   "source": [
    "dSR_618 = wvl2 / wvl1"
   ]
  },
  {
   "cell_type": "code",
   "execution_count": 164,
   "id": "b511c7ee-170b-4f65-8880-91004748fb36",
   "metadata": {},
   "outputs": [],
   "source": [
    "sp_indices['dSR_PC618'] = dSR_618.T"
   ]
  },
  {
   "cell_type": "markdown",
   "id": "dd563c74-0cbc-4271-a817-f8a485c56370",
   "metadata": {
    "tags": []
   },
   "source": [
    "### Pigment Specific Normalized Difference for Allophycocyanin\n",
    "- dND_652 = (d800 - d652) / (d800 + d652)\n",
    "- No peak detected in our [A] phycobilin extractions"
   ]
  },
  {
   "cell_type": "code",
   "execution_count": 165,
   "id": "c2bbcb4f-a487-4470-b49c-0059db6ad450",
   "metadata": {},
   "outputs": [],
   "source": [
    "wvl1 = deriv_df.loc['651':'652',:].squeeze()\n",
    "wvl2 = deriv_df.loc['800':'801',:].squeeze()"
   ]
  },
  {
   "cell_type": "code",
   "execution_count": 166,
   "id": "c2b834cb-98c4-4144-bf66-a1023ca2dcda",
   "metadata": {},
   "outputs": [],
   "source": [
    "dND_652 = (wvl2 - wvl1) / (wvl2 + wvl1)"
   ]
  },
  {
   "cell_type": "code",
   "execution_count": 167,
   "id": "9f8d47da-de6f-41d4-8d89-7aa90438f948",
   "metadata": {},
   "outputs": [],
   "source": [
    "sp_indices['dND_APC652'] = dND_652.T"
   ]
  },
  {
   "cell_type": "markdown",
   "id": "fbbcd0c5-eebe-45a8-b36a-bdff1fc8e67c",
   "metadata": {
    "tags": []
   },
   "source": [
    "### Pigment Specific Simple Ratio for Allophycocyanin\n",
    "- dSR_652 = d800 / d652"
   ]
  },
  {
   "cell_type": "code",
   "execution_count": 168,
   "id": "4295375d-b5d8-47ad-970e-99386ed459f4",
   "metadata": {},
   "outputs": [],
   "source": [
    "wvl1 = deriv_df.loc['651':'652',:].squeeze()\n",
    "wvl2 = deriv_df.loc['800':'801',:].squeeze()"
   ]
  },
  {
   "cell_type": "code",
   "execution_count": 169,
   "id": "c678008e-eb36-43ad-be16-538ecb91fc4a",
   "metadata": {},
   "outputs": [],
   "source": [
    "dSR_652 = wvl2 / wvl1"
   ]
  },
  {
   "cell_type": "code",
   "execution_count": 170,
   "id": "ca4e821e-8f1d-49e5-837a-d38e718526b4",
   "metadata": {},
   "outputs": [],
   "source": [
    "sp_indices['dSR_APC652'] = dSR_652.T"
   ]
  },
  {
   "cell_type": "code",
   "execution_count": null,
   "id": "bb744289-49a5-47b2-b875-72ab394d5932",
   "metadata": {},
   "outputs": [],
   "source": []
  },
  {
   "cell_type": "markdown",
   "id": "3374d81c-01dd-42fa-8a02-77ceddcc1fa6",
   "metadata": {
    "tags": []
   },
   "source": [
    "### Pigment Specific Normalized Difference for Chlorophyll a (665 nm)\n",
    "- dND_665 = (d800 - d665) / (d800 + d665) *"
   ]
  },
  {
   "cell_type": "code",
   "execution_count": 171,
   "id": "15918cd9-8e6a-4b6d-9adc-bd7ee1cd830a",
   "metadata": {
    "tags": []
   },
   "outputs": [],
   "source": [
    "wvl1 = deriv_df.loc['800':'801',:].squeeze()\n",
    "wvl2 = deriv_df.loc['665':'666',:].squeeze()"
   ]
  },
  {
   "cell_type": "code",
   "execution_count": 172,
   "id": "58ff7faf-8832-42e9-81e4-fb6d24478434",
   "metadata": {},
   "outputs": [],
   "source": [
    "dND_665 = (wvl1 - wvl2) / (wvl1 + wvl2)"
   ]
  },
  {
   "cell_type": "code",
   "execution_count": 173,
   "id": "e2219c55-6e1e-4a80-8850-26a9b8b91393",
   "metadata": {},
   "outputs": [],
   "source": [
    "sp_indices['dND_CHL665'] = dND_665.T"
   ]
  },
  {
   "cell_type": "markdown",
   "id": "85aa6dcb-c857-47de-92cb-dafb5d17b714",
   "metadata": {
    "tags": []
   },
   "source": [
    "### Pigment Specific Simple Ratio for Chlorophyll a\n",
    "- dSR_665 = d800 / d665 *"
   ]
  },
  {
   "cell_type": "code",
   "execution_count": 174,
   "id": "16644360-71ad-40d7-880e-32093ea84d3c",
   "metadata": {},
   "outputs": [],
   "source": [
    "wvl1 = deriv_df.loc['800':'801',:].squeeze()\n",
    "wvl2 = deriv_df.loc['665':'666',:].squeeze()"
   ]
  },
  {
   "cell_type": "code",
   "execution_count": 175,
   "id": "83601f0a-5bc7-4f8b-a5d8-f5f2dfe09167",
   "metadata": {
    "tags": []
   },
   "outputs": [],
   "source": [
    "dSR_665 = wvl1 / wvl2"
   ]
  },
  {
   "cell_type": "code",
   "execution_count": 176,
   "id": "634e9fcc-170e-44f2-9d8e-025a7f8a010e",
   "metadata": {},
   "outputs": [],
   "source": [
    "sp_indices['dSR_CHL665'] = dSR_665.T"
   ]
  },
  {
   "cell_type": "markdown",
   "id": "c14f5d39-6569-4ea6-b58b-846adf5915c7",
   "metadata": {
    "tags": []
   },
   "source": [
    "## * 2nd Derivative* Indices\n",
    "### Pigment Specific Normalized Difference for Phycobilin 494 nm\n",
    "#### ddND494\n",
    "- ddND_494 = (dd800 - dd494) / (dd800 + dd494)"
   ]
  },
  {
   "cell_type": "code",
   "execution_count": 177,
   "id": "c23a9b80-47da-47b7-86c0-9b1191b36863",
   "metadata": {},
   "outputs": [],
   "source": [
    "wvl1 = d_deriv_df.loc['494':'495',:].squeeze() # First A peak of phycobilin extracts\n",
    "wvl2 = d_deriv_df.loc['800':'801',:].squeeze() #800 nm"
   ]
  },
  {
   "cell_type": "code",
   "execution_count": 178,
   "id": "7b5dbd97-0f04-42cf-bfde-cb88f51aa9c4",
   "metadata": {},
   "outputs": [],
   "source": [
    "ddND_494 = (wvl2 - wvl1) / (wvl2 + wvl1)"
   ]
  },
  {
   "cell_type": "code",
   "execution_count": 179,
   "id": "90c42841-9306-48c3-8729-d9f9b6250af1",
   "metadata": {},
   "outputs": [],
   "source": [
    "sp_indices['ddND_PE494'] = ddND_494.T "
   ]
  },
  {
   "cell_type": "markdown",
   "id": "3b647447-ca67-4340-86d1-6455abd377fd",
   "metadata": {
    "tags": []
   },
   "source": [
    "### Pigment Specific Simple Ratio for Phycobilin 494 nm\n",
    "### ddSR494\n",
    "- ddSR_494 = dd800 / dd494"
   ]
  },
  {
   "cell_type": "code",
   "execution_count": 180,
   "id": "f8a88a8e-1187-40c0-9129-313b4a5eaca5",
   "metadata": {},
   "outputs": [],
   "source": [
    "wvl1 = d_deriv_df.loc['494':'495',:].squeeze() # First A peak of phycobilin extracts\n",
    "wvl2 = d_deriv_df.loc['800':'801',:].squeeze() #800 nm"
   ]
  },
  {
   "cell_type": "code",
   "execution_count": 181,
   "id": "5ecd506e-b088-4c73-8426-16aa0dcfd5f6",
   "metadata": {},
   "outputs": [],
   "source": [
    "ddSR_494 = wvl2 / wvl1"
   ]
  },
  {
   "cell_type": "code",
   "execution_count": 182,
   "id": "e6320834-da4d-4569-94a4-c4f80f94b954",
   "metadata": {},
   "outputs": [],
   "source": [
    "sp_indices['ddSR_PE494'] = ddSR_494.T"
   ]
  },
  {
   "cell_type": "markdown",
   "id": "5f93fc31-8baa-41d1-ab09-1849be5ac071",
   "metadata": {
    "tags": []
   },
   "source": [
    "### Pigment Specific Normalized Difference for Phycoerythrin (563 nm)\n",
    "- ddND_563 = (dd800 - dd563) / (dd800 + dd563)\n",
    "- Based on Beer & Eshel equation and our [A] peaks"
   ]
  },
  {
   "cell_type": "code",
   "execution_count": 183,
   "id": "e0b2bf5e-08bc-446e-a457-8b47759dbae7",
   "metadata": {},
   "outputs": [],
   "source": [
    "wvl1 = d_deriv_df.loc['562':'564',:].squeeze() \n",
    "wvl2 = d_deriv_df.loc['799':'801',:].squeeze()"
   ]
  },
  {
   "cell_type": "code",
   "execution_count": 184,
   "id": "7acd58e8-3abd-4cb3-b100-37d02ea90f0c",
   "metadata": {},
   "outputs": [],
   "source": [
    "ddND_563 = (wvl2 - wvl1) / (wvl2 + wvl1)"
   ]
  },
  {
   "cell_type": "code",
   "execution_count": 185,
   "id": "14994407-134f-4495-afad-ab12e1ae1e26",
   "metadata": {},
   "outputs": [],
   "source": [
    "sp_indices['ddND_PE563'] = ddND_563.T"
   ]
  },
  {
   "cell_type": "markdown",
   "id": "95efd713-d336-443b-8e70-06bf23c168aa",
   "metadata": {
    "tags": []
   },
   "source": [
    "### Pigment Specific Simple Ratio for Phycoerythrin\n",
    "- ddSR_563 = dd800 / dd563"
   ]
  },
  {
   "cell_type": "code",
   "execution_count": 186,
   "id": "46bae14b-1b3c-4d8a-b674-f5987b859f7e",
   "metadata": {},
   "outputs": [],
   "source": [
    "wvl1 = d_deriv_df.loc['562':'564',:].squeeze()\n",
    "wvl2 = d_deriv_df.loc['799':'801',:].squeeze()"
   ]
  },
  {
   "cell_type": "code",
   "execution_count": 187,
   "id": "8299b7f2-95af-451f-adf1-ae4c3f01e7eb",
   "metadata": {},
   "outputs": [],
   "source": [
    "ddSR_563 = wvl2 / wvl1"
   ]
  },
  {
   "cell_type": "code",
   "execution_count": 188,
   "id": "c198a971-1d39-4221-b54d-f844bb954d03",
   "metadata": {},
   "outputs": [],
   "source": [
    "sp_indices['ddSR_PE563'] = ddSR_563.T"
   ]
  },
  {
   "cell_type": "markdown",
   "id": "b99ba847-0f04-4d51-8da9-47647dd1a5ea",
   "metadata": {
    "tags": []
   },
   "source": [
    "### Pigment Specific Normalized Difference for Phycocyanin\n",
    "- ddND_PC = (dd800 - dd618) / (dd800 + dd618)\n",
    "- Based on Beer & Eshel equation\n",
    "- No peak detected in our [A] phycobilin extractions"
   ]
  },
  {
   "cell_type": "code",
   "execution_count": 189,
   "id": "6cd67ff2-2f98-48b2-8d75-9c56f8fd3fee",
   "metadata": {},
   "outputs": [],
   "source": [
    "wvl1 = d_deriv_df.loc['617':'619',:].squeeze()\n",
    "wvl2 = d_deriv_df.loc['799':'801',:].squeeze()"
   ]
  },
  {
   "cell_type": "code",
   "execution_count": 190,
   "id": "3c3edade-03e2-41cd-af02-9e7d4d089881",
   "metadata": {},
   "outputs": [],
   "source": [
    "ddND_618 = (wvl2 - wvl1) / (wvl2 + wvl1)"
   ]
  },
  {
   "cell_type": "code",
   "execution_count": 191,
   "id": "b521488c-2ed0-49aa-bc40-eaa392f9ff61",
   "metadata": {},
   "outputs": [],
   "source": [
    "sp_indices['ddND_PC618'] = ddND_618.T"
   ]
  },
  {
   "cell_type": "markdown",
   "id": "a2f8daa6-13da-49e5-9667-78240f85c633",
   "metadata": {
    "tags": []
   },
   "source": [
    "### Pigment Specific Simple Ratio for Phycocyanin\n",
    "- ddSR_618 = dd800 / dd618"
   ]
  },
  {
   "cell_type": "code",
   "execution_count": 192,
   "id": "21790589-fe66-43d2-8653-3c4f9d047846",
   "metadata": {},
   "outputs": [],
   "source": [
    "wvl1 = d_deriv_df.loc['617':'619',:].squeeze()\n",
    "wvl2 = d_deriv_df.loc['799':'801',:].squeeze()"
   ]
  },
  {
   "cell_type": "code",
   "execution_count": 193,
   "id": "cc00282c-e4ee-4a8c-be3a-2db4e3ce1fe8",
   "metadata": {},
   "outputs": [],
   "source": [
    "ddSR_618 = wvl2 / wvl1"
   ]
  },
  {
   "cell_type": "code",
   "execution_count": 194,
   "id": "501a0bf5-f84e-422e-aa3b-2e4ac1cfd954",
   "metadata": {},
   "outputs": [],
   "source": [
    "sp_indices['ddSR_PC618'] = ddSR_618.T"
   ]
  },
  {
   "cell_type": "markdown",
   "id": "8e6ff641-05a1-4c33-8f64-26c8fe6c131c",
   "metadata": {
    "tags": []
   },
   "source": [
    "### Pigment Specific Normalized Difference for Allophycocyanin\n",
    "- ddND_652 = (dd800 - dd652) / (dd800 + dd652)\n",
    "- No peak detected in our [A] phycobilin extractions"
   ]
  },
  {
   "cell_type": "code",
   "execution_count": 195,
   "id": "e6fe29fb-6795-4ebe-aebb-f2e9faa9e6c8",
   "metadata": {},
   "outputs": [],
   "source": [
    "wvl1 = d_deriv_df.loc['651':'652',:].squeeze()\n",
    "wvl2 = d_deriv_df.loc['800':'801',:].squeeze()"
   ]
  },
  {
   "cell_type": "code",
   "execution_count": 196,
   "id": "64bdf9cc-926d-4415-bcfd-0f7699f48eae",
   "metadata": {},
   "outputs": [],
   "source": [
    "ddND_652 = (wvl2 - wvl1) / (wvl2 + wvl1)"
   ]
  },
  {
   "cell_type": "code",
   "execution_count": 197,
   "id": "f5a78c06-8717-4cd1-8a13-9f9c2bb64aea",
   "metadata": {},
   "outputs": [],
   "source": [
    "sp_indices['ddND_APC652'] = ddND_652.T"
   ]
  },
  {
   "cell_type": "markdown",
   "id": "19e01ff9-30ef-472b-8492-dd39fd015cb9",
   "metadata": {
    "tags": []
   },
   "source": [
    "### Pigment Specific Simple Ratio for Allophycocyanin\n",
    "- ddSR_652 = dd800 / dd652"
   ]
  },
  {
   "cell_type": "code",
   "execution_count": 198,
   "id": "d0654202-a527-4bd3-a276-e792534c85ea",
   "metadata": {},
   "outputs": [],
   "source": [
    "wvl1 = d_deriv_df.loc['651':'652',:].squeeze()\n",
    "wvl2 = d_deriv_df.loc['800':'801',:].squeeze()"
   ]
  },
  {
   "cell_type": "code",
   "execution_count": 199,
   "id": "eae5ce23-a2d3-4e27-9153-c61b8529f86f",
   "metadata": {},
   "outputs": [],
   "source": [
    "ddSR_652 = wvl2 / wvl1"
   ]
  },
  {
   "cell_type": "code",
   "execution_count": 200,
   "id": "5449dd88-1a58-4c18-a33b-37a8f2d8040e",
   "metadata": {},
   "outputs": [],
   "source": [
    "sp_indices['ddSR_APC652'] = ddSR_652.T"
   ]
  },
  {
   "cell_type": "code",
   "execution_count": null,
   "id": "42fed8de-a5c3-46c5-adea-07d82eed6a3d",
   "metadata": {},
   "outputs": [],
   "source": []
  },
  {
   "cell_type": "markdown",
   "id": "9848ba6f-a700-4f8e-ab33-e63294df1e41",
   "metadata": {
    "tags": []
   },
   "source": [
    "### Pigment Specific Normalized Difference for Chlorophyll a (665 nm)\n",
    "- ddND_665 = (dd800 - dd665) / (dd800 + dd665) *"
   ]
  },
  {
   "cell_type": "code",
   "execution_count": 201,
   "id": "86aa1d1d-0e34-44fa-8760-43afac57fc7a",
   "metadata": {
    "tags": []
   },
   "outputs": [],
   "source": [
    "wvl1 = d_deriv_df.loc['800':'801',:].squeeze()\n",
    "wvl2 = d_deriv_df.loc['665':'666',:].squeeze()"
   ]
  },
  {
   "cell_type": "code",
   "execution_count": 202,
   "id": "535e5e26-e5b1-43b6-970c-babc5a1370a6",
   "metadata": {},
   "outputs": [],
   "source": [
    "ddND_665 = (wvl1 - wvl2) / (wvl1 + wvl2)"
   ]
  },
  {
   "cell_type": "code",
   "execution_count": 203,
   "id": "ac7047ae-e4ff-4381-826c-5c178e5747bc",
   "metadata": {},
   "outputs": [],
   "source": [
    "sp_indices['ddND_CHL665'] = ddND_665.T"
   ]
  },
  {
   "cell_type": "markdown",
   "id": "a453092e-c8a7-4c8b-a9b8-2fec8c3e3a48",
   "metadata": {
    "tags": []
   },
   "source": [
    "### Pigment Specific Simple Ratio for Chlorophyll a\n",
    "- ddSR_665 = dd800 / dd665 *"
   ]
  },
  {
   "cell_type": "code",
   "execution_count": 204,
   "id": "10d52376-aa26-4434-9c13-57bac213415f",
   "metadata": {},
   "outputs": [],
   "source": [
    "wvl1 = d_deriv_df.loc['800':'801',:].squeeze()\n",
    "wvl2 = d_deriv_df.loc['665':'666',:].squeeze()"
   ]
  },
  {
   "cell_type": "code",
   "execution_count": 205,
   "id": "569ed5b4-51b8-4832-92e9-1fb114c71d20",
   "metadata": {
    "tags": []
   },
   "outputs": [],
   "source": [
    "ddSR_665 = wvl1 / wvl2"
   ]
  },
  {
   "cell_type": "code",
   "execution_count": 206,
   "id": "aab4e1c3-a222-4789-a492-d784bb3b34d9",
   "metadata": {},
   "outputs": [],
   "source": [
    "sp_indices['ddSR_CHL665'] = ddSR_665.T"
   ]
  },
  {
   "cell_type": "markdown",
   "id": "120140b0-7280-4a45-a779-c121790212b2",
   "metadata": {
    "tags": []
   },
   "source": [
    "## Simple double derivative [dd]"
   ]
  },
  {
   "cell_type": "markdown",
   "id": "985e852a-d752-43a5-a7bf-35b77236795a",
   "metadata": {},
   "source": [
    "### dd417 (?)"
   ]
  },
  {
   "cell_type": "code",
   "execution_count": 207,
   "id": "49fb793d-8c63-42d8-94f5-76bd1f27dd3f",
   "metadata": {},
   "outputs": [],
   "source": [
    "# wvl = d_deriv_df.loc['416':'417',:].squeeze()\n",
    "# wvl\n",
    "# sp_indices['dd417'] = wvl"
   ]
  },
  {
   "cell_type": "markdown",
   "id": "2991b676-b162-438d-b4c5-bb35303ffb61",
   "metadata": {},
   "source": [
    "### dd434"
   ]
  },
  {
   "cell_type": "code",
   "execution_count": 208,
   "id": "a45c0775-6d87-42a5-8f55-ee7700ecbd31",
   "metadata": {},
   "outputs": [],
   "source": [
    "wvl = d_deriv_df.loc['433':'434',:].squeeze()\n",
    "wvl\n",
    "sp_indices['dd_CHL434'] = wvl"
   ]
  },
  {
   "cell_type": "markdown",
   "id": "8715eb30-336d-46b1-875f-e0dc43ebe3fa",
   "metadata": {},
   "source": [
    "### dd494"
   ]
  },
  {
   "cell_type": "code",
   "execution_count": 209,
   "id": "6e68b77d-f370-4bb6-9b39-7b240be5c51d",
   "metadata": {},
   "outputs": [],
   "source": [
    "wvl = d_deriv_df.loc['494':'495',:].squeeze()\n",
    "wvl\n",
    "sp_indices['dd_PE494'] = wvl"
   ]
  },
  {
   "cell_type": "markdown",
   "id": "7851f778-2848-4af5-8459-d60c05850960",
   "metadata": {},
   "source": [
    "### dd563"
   ]
  },
  {
   "cell_type": "code",
   "execution_count": 210,
   "id": "4d948336-1d08-4865-a370-8486ebc843f6",
   "metadata": {},
   "outputs": [],
   "source": [
    "wvl = d_deriv_df.loc['562':'563',:].squeeze()\n",
    "wvl\n",
    "sp_indices['dd_PE563'] = wvl"
   ]
  },
  {
   "cell_type": "markdown",
   "id": "b0af8731-3548-4f6d-bf4f-8c25a705266f",
   "metadata": {},
   "source": [
    "### dd624"
   ]
  },
  {
   "cell_type": "code",
   "execution_count": 211,
   "id": "cec392ec-afdc-4373-98b2-57801d967733",
   "metadata": {
    "tags": []
   },
   "outputs": [],
   "source": [
    "wvl = d_deriv_df.loc['624':'625',:].squeeze()\n",
    "wvl\n",
    "sp_indices['dd_CHL624'] = wvl"
   ]
  },
  {
   "cell_type": "markdown",
   "id": "b8ae2dce-7274-4ab2-9d79-b909db99a6d2",
   "metadata": {},
   "source": [
    "### dd665"
   ]
  },
  {
   "cell_type": "code",
   "execution_count": 212,
   "id": "24774ea6-7a66-42aa-ab36-f70ee26c3e7f",
   "metadata": {},
   "outputs": [],
   "source": [
    "wvl = d_deriv_df.loc['665':'666',:].squeeze()\n",
    "wvl\n",
    "sp_indices['dd_CHL665'] = wvl"
   ]
  },
  {
   "cell_type": "markdown",
   "id": "24142b43-a424-4dc7-b5bc-6bbc602a26bc",
   "metadata": {},
   "source": [
    "## Final Spectral Indices Dataframe"
   ]
  },
  {
   "cell_type": "code",
   "execution_count": 213,
   "id": "b6da501a-80d5-4d8b-a369-2f8fdf9db5e0",
   "metadata": {},
   "outputs": [
    {
     "data": {
      "text/html": [
       "<div>\n",
       "<style scoped>\n",
       "    .dataframe tbody tr th:only-of-type {\n",
       "        vertical-align: middle;\n",
       "    }\n",
       "\n",
       "    .dataframe tbody tr th {\n",
       "        vertical-align: top;\n",
       "    }\n",
       "\n",
       "    .dataframe thead th {\n",
       "        text-align: right;\n",
       "    }\n",
       "</style>\n",
       "<table border=\"1\" class=\"dataframe\">\n",
       "  <thead>\n",
       "    <tr style=\"text-align: right;\">\n",
       "      <th></th>\n",
       "      <th>NDVI</th>\n",
       "      <th>PSRI</th>\n",
       "      <th>PRI</th>\n",
       "      <th>EVI</th>\n",
       "      <th>MCARI</th>\n",
       "      <th>ND_CHLA</th>\n",
       "      <th>ND_CHLB</th>\n",
       "      <th>SR_CHLA</th>\n",
       "      <th>SR_CHLB</th>\n",
       "      <th>ND_PE494</th>\n",
       "      <th>...</th>\n",
       "      <th>ddSR_PC618</th>\n",
       "      <th>ddND_APC652</th>\n",
       "      <th>ddSR_APC652</th>\n",
       "      <th>ddND_CHL665</th>\n",
       "      <th>ddSR_CHL665</th>\n",
       "      <th>dd_CHL434</th>\n",
       "      <th>dd_PE494</th>\n",
       "      <th>dd_PE563</th>\n",
       "      <th>dd_CHL624</th>\n",
       "      <th>dd_CHL665</th>\n",
       "    </tr>\n",
       "  </thead>\n",
       "  <tbody>\n",
       "    <tr>\n",
       "      <th>CE01</th>\n",
       "      <td>0.290743</td>\n",
       "      <td>0.079755</td>\n",
       "      <td>-0.008117</td>\n",
       "      <td>0.567917</td>\n",
       "      <td>0.110237</td>\n",
       "      <td>0.290743</td>\n",
       "      <td>0.211657</td>\n",
       "      <td>1.819853</td>\n",
       "      <td>1.536966</td>\n",
       "      <td>0.362559</td>\n",
       "      <td>...</td>\n",
       "      <td>-1.123812</td>\n",
       "      <td>-0.692441</td>\n",
       "      <td>0.181725</td>\n",
       "      <td>-1.418598</td>\n",
       "      <td>-0.173075</td>\n",
       "      <td>0.000210</td>\n",
       "      <td>0.000455</td>\n",
       "      <td>0.000339</td>\n",
       "      <td>0.000039</td>\n",
       "      <td>0.000734</td>\n",
       "    </tr>\n",
       "    <tr>\n",
       "      <th>CE01B</th>\n",
       "      <td>0.289068</td>\n",
       "      <td>0.049409</td>\n",
       "      <td>-0.017260</td>\n",
       "      <td>0.554885</td>\n",
       "      <td>0.109184</td>\n",
       "      <td>0.289068</td>\n",
       "      <td>0.205856</td>\n",
       "      <td>1.813210</td>\n",
       "      <td>1.518434</td>\n",
       "      <td>0.333326</td>\n",
       "      <td>...</td>\n",
       "      <td>-2.054157</td>\n",
       "      <td>-0.435162</td>\n",
       "      <td>0.393571</td>\n",
       "      <td>-1.996733</td>\n",
       "      <td>-0.332607</td>\n",
       "      <td>0.000177</td>\n",
       "      <td>0.000307</td>\n",
       "      <td>0.000200</td>\n",
       "      <td>0.000030</td>\n",
       "      <td>0.000750</td>\n",
       "    </tr>\n",
       "    <tr>\n",
       "      <th>CE02</th>\n",
       "      <td>0.433702</td>\n",
       "      <td>0.071641</td>\n",
       "      <td>-0.001786</td>\n",
       "      <td>0.805192</td>\n",
       "      <td>0.175265</td>\n",
       "      <td>0.433702</td>\n",
       "      <td>0.334771</td>\n",
       "      <td>2.531712</td>\n",
       "      <td>2.006484</td>\n",
       "      <td>0.506562</td>\n",
       "      <td>...</td>\n",
       "      <td>-0.787124</td>\n",
       "      <td>-0.808663</td>\n",
       "      <td>0.105789</td>\n",
       "      <td>-1.169230</td>\n",
       "      <td>-0.078014</td>\n",
       "      <td>0.000138</td>\n",
       "      <td>0.000454</td>\n",
       "      <td>0.000498</td>\n",
       "      <td>0.000091</td>\n",
       "      <td>0.000995</td>\n",
       "    </tr>\n",
       "    <tr>\n",
       "      <th>CE03</th>\n",
       "      <td>0.265047</td>\n",
       "      <td>0.096206</td>\n",
       "      <td>-0.010813</td>\n",
       "      <td>0.474892</td>\n",
       "      <td>0.084667</td>\n",
       "      <td>0.265047</td>\n",
       "      <td>0.197441</td>\n",
       "      <td>1.721263</td>\n",
       "      <td>1.492029</td>\n",
       "      <td>0.353032</td>\n",
       "      <td>...</td>\n",
       "      <td>-1.867019</td>\n",
       "      <td>-0.699318</td>\n",
       "      <td>0.176943</td>\n",
       "      <td>-1.436495</td>\n",
       "      <td>-0.179149</td>\n",
       "      <td>0.000118</td>\n",
       "      <td>0.000288</td>\n",
       "      <td>0.000382</td>\n",
       "      <td>0.000013</td>\n",
       "      <td>0.000712</td>\n",
       "    </tr>\n",
       "    <tr>\n",
       "      <th>CE03B</th>\n",
       "      <td>0.216528</td>\n",
       "      <td>0.026178</td>\n",
       "      <td>-0.023409</td>\n",
       "      <td>0.505032</td>\n",
       "      <td>0.110717</td>\n",
       "      <td>0.216528</td>\n",
       "      <td>0.157689</td>\n",
       "      <td>1.552739</td>\n",
       "      <td>1.374421</td>\n",
       "      <td>0.234280</td>\n",
       "      <td>...</td>\n",
       "      <td>-1.682639</td>\n",
       "      <td>-0.539206</td>\n",
       "      <td>0.299371</td>\n",
       "      <td>-1.488256</td>\n",
       "      <td>-0.196224</td>\n",
       "      <td>0.000110</td>\n",
       "      <td>-0.000013</td>\n",
       "      <td>-0.000059</td>\n",
       "      <td>-0.000029</td>\n",
       "      <td>0.000700</td>\n",
       "    </tr>\n",
       "    <tr>\n",
       "      <th>CE04</th>\n",
       "      <td>0.382506</td>\n",
       "      <td>0.030676</td>\n",
       "      <td>-0.005131</td>\n",
       "      <td>0.729066</td>\n",
       "      <td>0.135995</td>\n",
       "      <td>0.382506</td>\n",
       "      <td>0.277830</td>\n",
       "      <td>2.238900</td>\n",
       "      <td>1.769429</td>\n",
       "      <td>0.422757</td>\n",
       "      <td>...</td>\n",
       "      <td>-1.460826</td>\n",
       "      <td>-0.669577</td>\n",
       "      <td>0.197908</td>\n",
       "      <td>-1.463496</td>\n",
       "      <td>-0.188146</td>\n",
       "      <td>0.000162</td>\n",
       "      <td>0.000365</td>\n",
       "      <td>0.000376</td>\n",
       "      <td>0.000111</td>\n",
       "      <td>0.000906</td>\n",
       "    </tr>\n",
       "    <tr>\n",
       "      <th>CE05</th>\n",
       "      <td>0.388256</td>\n",
       "      <td>0.104578</td>\n",
       "      <td>0.012983</td>\n",
       "      <td>0.621340</td>\n",
       "      <td>0.129516</td>\n",
       "      <td>0.388256</td>\n",
       "      <td>0.281552</td>\n",
       "      <td>2.269340</td>\n",
       "      <td>1.783777</td>\n",
       "      <td>0.501910</td>\n",
       "      <td>...</td>\n",
       "      <td>-0.887268</td>\n",
       "      <td>-0.790021</td>\n",
       "      <td>0.117305</td>\n",
       "      <td>-1.241058</td>\n",
       "      <td>-0.107564</td>\n",
       "      <td>0.000291</td>\n",
       "      <td>0.000619</td>\n",
       "      <td>0.000651</td>\n",
       "      <td>0.000176</td>\n",
       "      <td>0.000914</td>\n",
       "    </tr>\n",
       "    <tr>\n",
       "      <th>GN02</th>\n",
       "      <td>0.523481</td>\n",
       "      <td>0.000877</td>\n",
       "      <td>0.018009</td>\n",
       "      <td>0.953706</td>\n",
       "      <td>0.361107</td>\n",
       "      <td>0.523481</td>\n",
       "      <td>0.404826</td>\n",
       "      <td>3.197108</td>\n",
       "      <td>2.360359</td>\n",
       "      <td>0.548165</td>\n",
       "      <td>...</td>\n",
       "      <td>-0.950561</td>\n",
       "      <td>-0.670296</td>\n",
       "      <td>0.197392</td>\n",
       "      <td>-1.603028</td>\n",
       "      <td>-0.231664</td>\n",
       "      <td>0.000231</td>\n",
       "      <td>0.000559</td>\n",
       "      <td>0.000470</td>\n",
       "      <td>0.000351</td>\n",
       "      <td>0.001006</td>\n",
       "    </tr>\n",
       "    <tr>\n",
       "      <th>GN03</th>\n",
       "      <td>0.518601</td>\n",
       "      <td>-0.016829</td>\n",
       "      <td>0.002711</td>\n",
       "      <td>0.923520</td>\n",
       "      <td>0.318934</td>\n",
       "      <td>0.518601</td>\n",
       "      <td>0.402075</td>\n",
       "      <td>3.154556</td>\n",
       "      <td>2.344903</td>\n",
       "      <td>0.518264</td>\n",
       "      <td>...</td>\n",
       "      <td>-0.786650</td>\n",
       "      <td>-0.724160</td>\n",
       "      <td>0.159985</td>\n",
       "      <td>-1.406636</td>\n",
       "      <td>-0.168964</td>\n",
       "      <td>0.000228</td>\n",
       "      <td>0.000372</td>\n",
       "      <td>0.000289</td>\n",
       "      <td>0.000247</td>\n",
       "      <td>0.000899</td>\n",
       "    </tr>\n",
       "    <tr>\n",
       "      <th>GN04</th>\n",
       "      <td>0.503848</td>\n",
       "      <td>0.012330</td>\n",
       "      <td>0.023056</td>\n",
       "      <td>0.863973</td>\n",
       "      <td>0.288681</td>\n",
       "      <td>0.503848</td>\n",
       "      <td>0.389704</td>\n",
       "      <td>3.031020</td>\n",
       "      <td>2.277101</td>\n",
       "      <td>0.538996</td>\n",
       "      <td>...</td>\n",
       "      <td>-0.781992</td>\n",
       "      <td>-0.718139</td>\n",
       "      <td>0.164050</td>\n",
       "      <td>-1.470680</td>\n",
       "      <td>-0.190506</td>\n",
       "      <td>0.000187</td>\n",
       "      <td>0.000557</td>\n",
       "      <td>0.000503</td>\n",
       "      <td>0.000312</td>\n",
       "      <td>0.000871</td>\n",
       "    </tr>\n",
       "    <tr>\n",
       "      <th>GN05</th>\n",
       "      <td>0.394601</td>\n",
       "      <td>0.068224</td>\n",
       "      <td>-0.003824</td>\n",
       "      <td>0.673476</td>\n",
       "      <td>0.198262</td>\n",
       "      <td>0.394601</td>\n",
       "      <td>0.306759</td>\n",
       "      <td>2.303608</td>\n",
       "      <td>1.885000</td>\n",
       "      <td>0.488038</td>\n",
       "      <td>...</td>\n",
       "      <td>-0.871523</td>\n",
       "      <td>-0.713979</td>\n",
       "      <td>0.166876</td>\n",
       "      <td>-1.521764</td>\n",
       "      <td>-0.206904</td>\n",
       "      <td>0.000084</td>\n",
       "      <td>0.000550</td>\n",
       "      <td>0.000617</td>\n",
       "      <td>0.000297</td>\n",
       "      <td>0.000845</td>\n",
       "    </tr>\n",
       "    <tr>\n",
       "      <th>GN06</th>\n",
       "      <td>0.450347</td>\n",
       "      <td>0.060705</td>\n",
       "      <td>0.014701</td>\n",
       "      <td>0.788482</td>\n",
       "      <td>0.241970</td>\n",
       "      <td>0.450347</td>\n",
       "      <td>0.327753</td>\n",
       "      <td>2.638663</td>\n",
       "      <td>1.975095</td>\n",
       "      <td>0.544704</td>\n",
       "      <td>...</td>\n",
       "      <td>-0.692799</td>\n",
       "      <td>-0.786369</td>\n",
       "      <td>0.119589</td>\n",
       "      <td>-1.324776</td>\n",
       "      <td>-0.139702</td>\n",
       "      <td>0.000305</td>\n",
       "      <td>0.000778</td>\n",
       "      <td>0.000736</td>\n",
       "      <td>0.000339</td>\n",
       "      <td>0.001045</td>\n",
       "    </tr>\n",
       "    <tr>\n",
       "      <th>GN07</th>\n",
       "      <td>0.493127</td>\n",
       "      <td>0.012126</td>\n",
       "      <td>0.006524</td>\n",
       "      <td>0.815540</td>\n",
       "      <td>0.272250</td>\n",
       "      <td>0.493127</td>\n",
       "      <td>0.389810</td>\n",
       "      <td>2.945765</td>\n",
       "      <td>2.277667</td>\n",
       "      <td>0.529684</td>\n",
       "      <td>...</td>\n",
       "      <td>-0.740637</td>\n",
       "      <td>-0.722500</td>\n",
       "      <td>0.161103</td>\n",
       "      <td>-1.465495</td>\n",
       "      <td>-0.188804</td>\n",
       "      <td>0.000192</td>\n",
       "      <td>0.000456</td>\n",
       "      <td>0.000370</td>\n",
       "      <td>0.000280</td>\n",
       "      <td>0.000821</td>\n",
       "    </tr>\n",
       "    <tr>\n",
       "      <th>GN08</th>\n",
       "      <td>0.540982</td>\n",
       "      <td>0.015302</td>\n",
       "      <td>0.024361</td>\n",
       "      <td>0.774179</td>\n",
       "      <td>0.292434</td>\n",
       "      <td>0.540982</td>\n",
       "      <td>0.416091</td>\n",
       "      <td>3.357132</td>\n",
       "      <td>2.425194</td>\n",
       "      <td>0.582029</td>\n",
       "      <td>...</td>\n",
       "      <td>-0.728333</td>\n",
       "      <td>-0.715004</td>\n",
       "      <td>0.166178</td>\n",
       "      <td>-1.477397</td>\n",
       "      <td>-0.192701</td>\n",
       "      <td>0.000149</td>\n",
       "      <td>0.000493</td>\n",
       "      <td>0.000413</td>\n",
       "      <td>0.000293</td>\n",
       "      <td>0.000812</td>\n",
       "    </tr>\n",
       "    <tr>\n",
       "      <th>GS03</th>\n",
       "      <td>0.454290</td>\n",
       "      <td>0.037374</td>\n",
       "      <td>0.022463</td>\n",
       "      <td>0.841989</td>\n",
       "      <td>0.246485</td>\n",
       "      <td>0.454290</td>\n",
       "      <td>0.349220</td>\n",
       "      <td>2.664952</td>\n",
       "      <td>2.073236</td>\n",
       "      <td>0.508313</td>\n",
       "      <td>...</td>\n",
       "      <td>-0.888982</td>\n",
       "      <td>-0.667701</td>\n",
       "      <td>0.199256</td>\n",
       "      <td>-1.555937</td>\n",
       "      <td>-0.217508</td>\n",
       "      <td>0.000297</td>\n",
       "      <td>0.000626</td>\n",
       "      <td>0.000590</td>\n",
       "      <td>0.000305</td>\n",
       "      <td>0.000931</td>\n",
       "    </tr>\n",
       "  </tbody>\n",
       "</table>\n",
       "<p>15 rows × 57 columns</p>\n",
       "</div>"
      ],
      "text/plain": [
       "           NDVI      PSRI       PRI       EVI     MCARI   ND_CHLA   ND_CHLB  \\\n",
       "CE01   0.290743  0.079755 -0.008117  0.567917  0.110237  0.290743  0.211657   \n",
       "CE01B  0.289068  0.049409 -0.017260  0.554885  0.109184  0.289068  0.205856   \n",
       "CE02   0.433702  0.071641 -0.001786  0.805192  0.175265  0.433702  0.334771   \n",
       "CE03   0.265047  0.096206 -0.010813  0.474892  0.084667  0.265047  0.197441   \n",
       "CE03B  0.216528  0.026178 -0.023409  0.505032  0.110717  0.216528  0.157689   \n",
       "CE04   0.382506  0.030676 -0.005131  0.729066  0.135995  0.382506  0.277830   \n",
       "CE05   0.388256  0.104578  0.012983  0.621340  0.129516  0.388256  0.281552   \n",
       "GN02   0.523481  0.000877  0.018009  0.953706  0.361107  0.523481  0.404826   \n",
       "GN03   0.518601 -0.016829  0.002711  0.923520  0.318934  0.518601  0.402075   \n",
       "GN04   0.503848  0.012330  0.023056  0.863973  0.288681  0.503848  0.389704   \n",
       "GN05   0.394601  0.068224 -0.003824  0.673476  0.198262  0.394601  0.306759   \n",
       "GN06   0.450347  0.060705  0.014701  0.788482  0.241970  0.450347  0.327753   \n",
       "GN07   0.493127  0.012126  0.006524  0.815540  0.272250  0.493127  0.389810   \n",
       "GN08   0.540982  0.015302  0.024361  0.774179  0.292434  0.540982  0.416091   \n",
       "GS03   0.454290  0.037374  0.022463  0.841989  0.246485  0.454290  0.349220   \n",
       "\n",
       "        SR_CHLA   SR_CHLB  ND_PE494  ...  ddSR_PC618  ddND_APC652  \\\n",
       "CE01   1.819853  1.536966  0.362559  ...   -1.123812    -0.692441   \n",
       "CE01B  1.813210  1.518434  0.333326  ...   -2.054157    -0.435162   \n",
       "CE02   2.531712  2.006484  0.506562  ...   -0.787124    -0.808663   \n",
       "CE03   1.721263  1.492029  0.353032  ...   -1.867019    -0.699318   \n",
       "CE03B  1.552739  1.374421  0.234280  ...   -1.682639    -0.539206   \n",
       "CE04   2.238900  1.769429  0.422757  ...   -1.460826    -0.669577   \n",
       "CE05   2.269340  1.783777  0.501910  ...   -0.887268    -0.790021   \n",
       "GN02   3.197108  2.360359  0.548165  ...   -0.950561    -0.670296   \n",
       "GN03   3.154556  2.344903  0.518264  ...   -0.786650    -0.724160   \n",
       "GN04   3.031020  2.277101  0.538996  ...   -0.781992    -0.718139   \n",
       "GN05   2.303608  1.885000  0.488038  ...   -0.871523    -0.713979   \n",
       "GN06   2.638663  1.975095  0.544704  ...   -0.692799    -0.786369   \n",
       "GN07   2.945765  2.277667  0.529684  ...   -0.740637    -0.722500   \n",
       "GN08   3.357132  2.425194  0.582029  ...   -0.728333    -0.715004   \n",
       "GS03   2.664952  2.073236  0.508313  ...   -0.888982    -0.667701   \n",
       "\n",
       "       ddSR_APC652  ddND_CHL665  ddSR_CHL665  dd_CHL434  dd_PE494  dd_PE563  \\\n",
       "CE01      0.181725    -1.418598    -0.173075   0.000210  0.000455  0.000339   \n",
       "CE01B     0.393571    -1.996733    -0.332607   0.000177  0.000307  0.000200   \n",
       "CE02      0.105789    -1.169230    -0.078014   0.000138  0.000454  0.000498   \n",
       "CE03      0.176943    -1.436495    -0.179149   0.000118  0.000288  0.000382   \n",
       "CE03B     0.299371    -1.488256    -0.196224   0.000110 -0.000013 -0.000059   \n",
       "CE04      0.197908    -1.463496    -0.188146   0.000162  0.000365  0.000376   \n",
       "CE05      0.117305    -1.241058    -0.107564   0.000291  0.000619  0.000651   \n",
       "GN02      0.197392    -1.603028    -0.231664   0.000231  0.000559  0.000470   \n",
       "GN03      0.159985    -1.406636    -0.168964   0.000228  0.000372  0.000289   \n",
       "GN04      0.164050    -1.470680    -0.190506   0.000187  0.000557  0.000503   \n",
       "GN05      0.166876    -1.521764    -0.206904   0.000084  0.000550  0.000617   \n",
       "GN06      0.119589    -1.324776    -0.139702   0.000305  0.000778  0.000736   \n",
       "GN07      0.161103    -1.465495    -0.188804   0.000192  0.000456  0.000370   \n",
       "GN08      0.166178    -1.477397    -0.192701   0.000149  0.000493  0.000413   \n",
       "GS03      0.199256    -1.555937    -0.217508   0.000297  0.000626  0.000590   \n",
       "\n",
       "       dd_CHL624  dd_CHL665  \n",
       "CE01    0.000039   0.000734  \n",
       "CE01B   0.000030   0.000750  \n",
       "CE02    0.000091   0.000995  \n",
       "CE03    0.000013   0.000712  \n",
       "CE03B  -0.000029   0.000700  \n",
       "CE04    0.000111   0.000906  \n",
       "CE05    0.000176   0.000914  \n",
       "GN02    0.000351   0.001006  \n",
       "GN03    0.000247   0.000899  \n",
       "GN04    0.000312   0.000871  \n",
       "GN05    0.000297   0.000845  \n",
       "GN06    0.000339   0.001045  \n",
       "GN07    0.000280   0.000821  \n",
       "GN08    0.000293   0.000812  \n",
       "GS03    0.000305   0.000931  \n",
       "\n",
       "[15 rows x 57 columns]"
      ]
     },
     "execution_count": 213,
     "metadata": {},
     "output_type": "execute_result"
    }
   ],
   "source": [
    "# Total of 61 indices\n",
    "sp_indices"
   ]
  },
  {
   "cell_type": "code",
   "execution_count": 214,
   "id": "ff1807dc-9fdc-40d9-9c29-977221331fc0",
   "metadata": {},
   "outputs": [],
   "source": [
    "sp_indices.T.to_csv(r\"C:\\Users\\jcmontes\\OneDrive - University of Tasmania\\01_Projects_Drive\\Imaging_spectroscopy\\Phenotyping_macroalgae\\results\\spectral-indices.csv\", \n",
    "                 float_format='%f')"
   ]
  },
  {
   "cell_type": "code",
   "execution_count": null,
   "id": "70378253-3ee3-43a7-8630-721ccd36cbef",
   "metadata": {},
   "outputs": [],
   "source": []
  },
  {
   "cell_type": "code",
   "execution_count": null,
   "id": "2a26f385-2e66-40f3-acdd-d307cf2e3c4b",
   "metadata": {},
   "outputs": [],
   "source": []
  }
 ],
 "metadata": {
  "kernelspec": {
   "display_name": "Python 3 (ipykernel)",
   "language": "python",
   "name": "python3"
  },
  "language_info": {
   "codemirror_mode": {
    "name": "ipython",
    "version": 3
   },
   "file_extension": ".py",
   "mimetype": "text/x-python",
   "name": "python",
   "nbconvert_exporter": "python",
   "pygments_lexer": "ipython3",
   "version": "3.10.8"
  },
  "vscode": {
   "interpreter": {
    "hash": "998671c269f7d15fa966c98279992c5cc22e7ba36c68a027d3bf3db382fcfd3a"
   }
  }
 },
 "nbformat": 4,
 "nbformat_minor": 5
}
